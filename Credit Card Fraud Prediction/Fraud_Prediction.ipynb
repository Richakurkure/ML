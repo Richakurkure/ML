{
 "cells": [
  {
   "cell_type": "markdown",
   "metadata": {},
   "source": [
    "# Methodology / Documentation of all the Steps\n",
    "\n",
    "## Data Gathering:-  \n",
    "In this step downloaded the data from github Programmatically and converted it into a Pandas dataframe\n",
    "## Exploratory Data Analysis:- \n",
    "In this step performed initial investigations on data so as to discover patterns,to spot anomalies,to test hypothesis and to check assumptions with the help of summary statistics and graphical representations. Created different histograms, boxplot and some other visualizations to better understand the data\n",
    "## Feature Engineering:-\n",
    "In this step used the domain knowledge of the data to create features that can improve the performance of the machine learning models. Created new feautres using the below columns. \n",
    "\n",
    "1) transactionDateTime:- # Calculate Total no of transaction occured on that CARD in last 1 hr and 24 hr (1 day)\n",
    "\n",
    "2) accountOpenDate:- # Calculate how old is the account (Number of days passed siince account opened)\n",
    "\n",
    "3) dateOfLastAddressChange:- # Calculate days past since adress changed (Number of days)\n",
    "\n",
    "4) merchantCountryCode and acqCountry:- # Flag column which tells for each transaction merchantCountryCode and acqCountry values were same or not\n",
    "\n",
    "5) cardCVV and enteredCVV:- # Flag column which tells for each transaction cardCVV and enteredCVV values were same or not.\n",
    "\n",
    "> In this step I also worked on<br><br>\n",
    "1.Imputation <br>\n",
    "2.Handling Outliers <br>\n",
    "3.Binning <br>\n",
    "4.Log Transform <br>\n",
    "5.One-Hot Encoding<br>\n",
    "6.Grouping Operations <br>\n",
    "7.Feature Split <br>\n",
    "8.Scaling <br>\n",
    "9.Extracting Date<br>\n",
    "\n",
    "## Model Building:- \n",
    "For this case study purpose I have tried two different models. Some of the main steps involved in the entire modeling process are listed below.\n",
    "1. Random Forest Classifier\n",
    "2. Xgboost Classifier\n",
    "\n",
    "### On a high level I have done 5 main things:- \n",
    "\n",
    "(A) One Hot Encoding to Handle categorical Variables \n",
    "\n",
    "(B) Split Data into Training and Test set\n",
    "\n",
    "(c) Over sampling(SMOTE) TRAINING data to handle the imbalance between the classes. \n",
    "\n",
    "(D) Feature Selection using mutual_info_classif \n",
    "\n",
    "(E) Parameter Tuning using GridSearch etc. \n",
    "\n",
    "## Model Evaluation Matrics:-\n",
    "In this step I analyzed the performance of the model by looking at different model evaluation matrics like\n",
    "Classification Accuracy, Confusion Matrix, Classification Report etc. "
   ]
  },
  {
   "cell_type": "code",
   "execution_count": 1,
   "metadata": {
    "collapsed": true
   },
   "outputs": [],
   "source": [
    "import pandas as pd, numpy as np, seaborn as sns\n",
    "import urllib, zipfile, tempfile, shutil, os,datetime\n",
    "\n",
    "from sklearn.metrics import mean_squared_error, r2_score, f1_score,confusion_matrix, classification_report, accuracy_score\n",
    "\n",
    "\n",
    "from IPython.display import display\n",
    "import matplotlib.pyplot as plt\n",
    "%matplotlib inline\n",
    "\n",
    "import warnings\n",
    "warnings.filterwarnings('ignore')\n",
    "\n",
    "pd.set_option('display.max_columns', None)\n",
    "pd.set_option('display.max_rows', 1000)"
   ]
  },
  {
   "cell_type": "markdown",
   "metadata": {},
   "source": [
    "# Question 1: Load\n",
    "\n",
    "Programmatically download and load into your favorite analytical tool the transactions data. This data, which is in line-delimited JSON format, can be found https://github.com/rk/ml\n",
    "\n",
    "Describe the structure of the data. Number of records and fields in each record?\n",
    "\n",
    "Provide some additional basic summary statistics for each field. Be sure to include a count of null, minimum, maximum, and unique values where appropriate"
   ]
  },
  {
   "cell_type": "markdown",
   "metadata": {},
   "source": [
    "#### Download Data PROGRAMMATICALLY from gitbub and convert it into a dataframe"
   ]
  },
  {
   "cell_type": "code",
   "execution_count": 2,
   "metadata": {
    "collapsed": true
   },
   "outputs": [],
   "source": [
    "url = 'https://raw.githubusercontent.com/data/deleted/for/privacy/transactions.zip'\n",
    "zipdir = tempfile.gettempdir()\n",
    "_ = urllib.request.urlretrieve(url, os.path.join(zipdir, 'transactions.zip'))\n",
    "test = zipfile.ZipFile(os.path.join(zipdir, 'transactions.zip'))\n",
    "test.extractall(zipdir)\n",
    "test.close()\n",
    "df  = pd.read_json(os.path.join(zipdir, 'transactions.txt'), lines=True)\n",
    "df = pd.DataFrame(df)\n",
    "# shutil.rmtree(zipdir)  # Need to change temp dir default, currently it is /var should be /tmp"
   ]
  },
  {
   "cell_type": "code",
   "execution_count": 3,
   "metadata": {},
   "outputs": [
    {
     "data": {
      "text/html": [
       "<div>\n",
       "<style scoped>\n",
       "    .dataframe tbody tr th:only-of-type {\n",
       "        vertical-align: middle;\n",
       "    }\n",
       "\n",
       "    .dataframe tbody tr th {\n",
       "        vertical-align: top;\n",
       "    }\n",
       "\n",
       "    .dataframe thead th {\n",
       "        text-align: right;\n",
       "    }\n",
       "</style>\n",
       "<table border=\"1\" class=\"dataframe\">\n",
       "  <thead>\n",
       "    <tr style=\"text-align: right;\">\n",
       "      <th></th>\n",
       "      <th>accountNumber</th>\n",
       "      <th>accountOpenDate</th>\n",
       "      <th>acqCountry</th>\n",
       "      <th>availableMoney</th>\n",
       "      <th>cardCVV</th>\n",
       "      <th>cardLast4Digits</th>\n",
       "      <th>cardPresent</th>\n",
       "      <th>creditLimit</th>\n",
       "      <th>currentBalance</th>\n",
       "      <th>currentExpDate</th>\n",
       "      <th>customerId</th>\n",
       "      <th>dateOfLastAddressChange</th>\n",
       "      <th>echoBuffer</th>\n",
       "      <th>enteredCVV</th>\n",
       "      <th>expirationDateKeyInMatch</th>\n",
       "      <th>isFraud</th>\n",
       "      <th>merchantCategoryCode</th>\n",
       "      <th>merchantCity</th>\n",
       "      <th>merchantCountryCode</th>\n",
       "      <th>merchantName</th>\n",
       "      <th>merchantState</th>\n",
       "      <th>merchantZip</th>\n",
       "      <th>posConditionCode</th>\n",
       "      <th>posEntryMode</th>\n",
       "      <th>posOnPremises</th>\n",
       "      <th>recurringAuthInd</th>\n",
       "      <th>transactionAmount</th>\n",
       "      <th>transactionDateTime</th>\n",
       "      <th>transactionType</th>\n",
       "    </tr>\n",
       "  </thead>\n",
       "  <tbody>\n",
       "    <tr>\n",
       "      <th>0</th>\n",
       "      <td>733493772</td>\n",
       "      <td>2014-08-03</td>\n",
       "      <td>US</td>\n",
       "      <td>5000.00</td>\n",
       "      <td>492</td>\n",
       "      <td>9184</td>\n",
       "      <td>False</td>\n",
       "      <td>5000</td>\n",
       "      <td>0.00</td>\n",
       "      <td>04/2020</td>\n",
       "      <td>733493772</td>\n",
       "      <td>2014-08-03</td>\n",
       "      <td></td>\n",
       "      <td>492</td>\n",
       "      <td>False</td>\n",
       "      <td>True</td>\n",
       "      <td>rideshare</td>\n",
       "      <td></td>\n",
       "      <td>US</td>\n",
       "      <td>Lyft</td>\n",
       "      <td></td>\n",
       "      <td></td>\n",
       "      <td>01</td>\n",
       "      <td>05</td>\n",
       "      <td></td>\n",
       "      <td></td>\n",
       "      <td>111.33</td>\n",
       "      <td>2016-01-08T19:04:50</td>\n",
       "      <td>PURCHASE</td>\n",
       "    </tr>\n",
       "    <tr>\n",
       "      <th>1</th>\n",
       "      <td>733493772</td>\n",
       "      <td>2014-08-03</td>\n",
       "      <td>US</td>\n",
       "      <td>4888.67</td>\n",
       "      <td>492</td>\n",
       "      <td>9184</td>\n",
       "      <td>False</td>\n",
       "      <td>5000</td>\n",
       "      <td>111.33</td>\n",
       "      <td>06/2023</td>\n",
       "      <td>733493772</td>\n",
       "      <td>2014-08-03</td>\n",
       "      <td></td>\n",
       "      <td>492</td>\n",
       "      <td>False</td>\n",
       "      <td>False</td>\n",
       "      <td>rideshare</td>\n",
       "      <td></td>\n",
       "      <td>US</td>\n",
       "      <td>Uber</td>\n",
       "      <td></td>\n",
       "      <td></td>\n",
       "      <td>01</td>\n",
       "      <td>09</td>\n",
       "      <td></td>\n",
       "      <td></td>\n",
       "      <td>24.75</td>\n",
       "      <td>2016-01-09T22:32:39</td>\n",
       "      <td>PURCHASE</td>\n",
       "    </tr>\n",
       "    <tr>\n",
       "      <th>2</th>\n",
       "      <td>733493772</td>\n",
       "      <td>2014-08-03</td>\n",
       "      <td>US</td>\n",
       "      <td>4863.92</td>\n",
       "      <td>492</td>\n",
       "      <td>9184</td>\n",
       "      <td>False</td>\n",
       "      <td>5000</td>\n",
       "      <td>136.08</td>\n",
       "      <td>12/2027</td>\n",
       "      <td>733493772</td>\n",
       "      <td>2014-08-03</td>\n",
       "      <td></td>\n",
       "      <td>492</td>\n",
       "      <td>False</td>\n",
       "      <td>False</td>\n",
       "      <td>rideshare</td>\n",
       "      <td></td>\n",
       "      <td>US</td>\n",
       "      <td>Lyft</td>\n",
       "      <td></td>\n",
       "      <td></td>\n",
       "      <td>01</td>\n",
       "      <td>05</td>\n",
       "      <td></td>\n",
       "      <td></td>\n",
       "      <td>187.40</td>\n",
       "      <td>2016-01-11T13:36:55</td>\n",
       "      <td>PURCHASE</td>\n",
       "    </tr>\n",
       "    <tr>\n",
       "      <th>3</th>\n",
       "      <td>733493772</td>\n",
       "      <td>2014-08-03</td>\n",
       "      <td>US</td>\n",
       "      <td>4676.52</td>\n",
       "      <td>492</td>\n",
       "      <td>9184</td>\n",
       "      <td>False</td>\n",
       "      <td>5000</td>\n",
       "      <td>323.48</td>\n",
       "      <td>09/2029</td>\n",
       "      <td>733493772</td>\n",
       "      <td>2014-08-03</td>\n",
       "      <td></td>\n",
       "      <td>492</td>\n",
       "      <td>False</td>\n",
       "      <td>True</td>\n",
       "      <td>rideshare</td>\n",
       "      <td></td>\n",
       "      <td>US</td>\n",
       "      <td>Lyft</td>\n",
       "      <td></td>\n",
       "      <td></td>\n",
       "      <td>01</td>\n",
       "      <td>02</td>\n",
       "      <td></td>\n",
       "      <td></td>\n",
       "      <td>227.34</td>\n",
       "      <td>2016-01-11T22:47:46</td>\n",
       "      <td>PURCHASE</td>\n",
       "    </tr>\n",
       "    <tr>\n",
       "      <th>4</th>\n",
       "      <td>733493772</td>\n",
       "      <td>2014-08-03</td>\n",
       "      <td>US</td>\n",
       "      <td>4449.18</td>\n",
       "      <td>492</td>\n",
       "      <td>9184</td>\n",
       "      <td>False</td>\n",
       "      <td>5000</td>\n",
       "      <td>550.82</td>\n",
       "      <td>10/2024</td>\n",
       "      <td>733493772</td>\n",
       "      <td>2014-08-03</td>\n",
       "      <td></td>\n",
       "      <td>492</td>\n",
       "      <td>False</td>\n",
       "      <td>False</td>\n",
       "      <td>rideshare</td>\n",
       "      <td></td>\n",
       "      <td>US</td>\n",
       "      <td>Lyft</td>\n",
       "      <td></td>\n",
       "      <td></td>\n",
       "      <td>01</td>\n",
       "      <td>02</td>\n",
       "      <td></td>\n",
       "      <td></td>\n",
       "      <td>0.00</td>\n",
       "      <td>2016-01-16T01:41:11</td>\n",
       "      <td>ADDRESS_VERIFICATION</td>\n",
       "    </tr>\n",
       "  </tbody>\n",
       "</table>\n",
       "</div>"
      ],
      "text/plain": [
       "   accountNumber accountOpenDate acqCountry  availableMoney  cardCVV  \\\n",
       "0      733493772      2014-08-03         US         5000.00      492   \n",
       "1      733493772      2014-08-03         US         4888.67      492   \n",
       "2      733493772      2014-08-03         US         4863.92      492   \n",
       "3      733493772      2014-08-03         US         4676.52      492   \n",
       "4      733493772      2014-08-03         US         4449.18      492   \n",
       "\n",
       "   cardLast4Digits  cardPresent  creditLimit  currentBalance currentExpDate  \\\n",
       "0             9184        False         5000            0.00        04/2020   \n",
       "1             9184        False         5000          111.33        06/2023   \n",
       "2             9184        False         5000          136.08        12/2027   \n",
       "3             9184        False         5000          323.48        09/2029   \n",
       "4             9184        False         5000          550.82        10/2024   \n",
       "\n",
       "   customerId dateOfLastAddressChange echoBuffer  enteredCVV  \\\n",
       "0   733493772              2014-08-03                    492   \n",
       "1   733493772              2014-08-03                    492   \n",
       "2   733493772              2014-08-03                    492   \n",
       "3   733493772              2014-08-03                    492   \n",
       "4   733493772              2014-08-03                    492   \n",
       "\n",
       "   expirationDateKeyInMatch  isFraud merchantCategoryCode merchantCity  \\\n",
       "0                     False     True            rideshare                \n",
       "1                     False    False            rideshare                \n",
       "2                     False    False            rideshare                \n",
       "3                     False     True            rideshare                \n",
       "4                     False    False            rideshare                \n",
       "\n",
       "  merchantCountryCode merchantName merchantState merchantZip posConditionCode  \\\n",
       "0                  US         Lyft                                         01   \n",
       "1                  US         Uber                                         01   \n",
       "2                  US         Lyft                                         01   \n",
       "3                  US         Lyft                                         01   \n",
       "4                  US         Lyft                                         01   \n",
       "\n",
       "  posEntryMode posOnPremises recurringAuthInd  transactionAmount  \\\n",
       "0           05                                            111.33   \n",
       "1           09                                             24.75   \n",
       "2           05                                            187.40   \n",
       "3           02                                            227.34   \n",
       "4           02                                              0.00   \n",
       "\n",
       "   transactionDateTime       transactionType  \n",
       "0  2016-01-08T19:04:50              PURCHASE  \n",
       "1  2016-01-09T22:32:39              PURCHASE  \n",
       "2  2016-01-11T13:36:55              PURCHASE  \n",
       "3  2016-01-11T22:47:46              PURCHASE  \n",
       "4  2016-01-16T01:41:11  ADDRESS_VERIFICATION  "
      ]
     },
     "execution_count": 3,
     "metadata": {},
     "output_type": "execute_result"
    }
   ],
   "source": [
    "df.head()"
   ]
  },
  {
   "cell_type": "markdown",
   "metadata": {},
   "source": [
    "#### Number of records - Check the shape of Data "
   ]
  },
  {
   "cell_type": "code",
   "execution_count": 4,
   "metadata": {},
   "outputs": [
    {
     "name": "stdout",
     "output_type": "stream",
     "text": [
      "\n",
      "Total Rows = 641914\n",
      "\n",
      "Total Columns = 29\n"
     ]
    }
   ],
   "source": [
    "print(f'\\nTotal Rows = {df.shape[0]}\\n\\nTotal Columns = {df.shape[1]}')"
   ]
  },
  {
   "cell_type": "markdown",
   "metadata": {},
   "source": [
    "#### Structure of the data - Check Datatypes"
   ]
  },
  {
   "cell_type": "code",
   "execution_count": 5,
   "metadata": {},
   "outputs": [
    {
     "name": "stdout",
     "output_type": "stream",
     "text": [
      "<class 'pandas.core.frame.DataFrame'>\n",
      "RangeIndex: 641914 entries, 0 to 641913\n",
      "Data columns (total 29 columns):\n",
      "accountNumber               641914 non-null int64\n",
      "accountOpenDate             641914 non-null object\n",
      "acqCountry                  641914 non-null object\n",
      "availableMoney              641914 non-null float64\n",
      "cardCVV                     641914 non-null int64\n",
      "cardLast4Digits             641914 non-null int64\n",
      "cardPresent                 641914 non-null bool\n",
      "creditLimit                 641914 non-null int64\n",
      "currentBalance              641914 non-null float64\n",
      "currentExpDate              641914 non-null object\n",
      "customerId                  641914 non-null int64\n",
      "dateOfLastAddressChange     641914 non-null object\n",
      "echoBuffer                  641914 non-null object\n",
      "enteredCVV                  641914 non-null int64\n",
      "expirationDateKeyInMatch    641914 non-null bool\n",
      "isFraud                     641914 non-null bool\n",
      "merchantCategoryCode        641914 non-null object\n",
      "merchantCity                641914 non-null object\n",
      "merchantCountryCode         641914 non-null object\n",
      "merchantName                641914 non-null object\n",
      "merchantState               641914 non-null object\n",
      "merchantZip                 641914 non-null object\n",
      "posConditionCode            641914 non-null object\n",
      "posEntryMode                641914 non-null object\n",
      "posOnPremises               641914 non-null object\n",
      "recurringAuthInd            641914 non-null object\n",
      "transactionAmount           641914 non-null float64\n",
      "transactionDateTime         641914 non-null object\n",
      "transactionType             641914 non-null object\n",
      "dtypes: bool(3), float64(3), int64(6), object(17)\n",
      "memory usage: 129.2+ MB\n"
     ]
    }
   ],
   "source": [
    "df.info()"
   ]
  },
  {
   "cell_type": "markdown",
   "metadata": {},
   "source": [
    "#### Descriptive Statistics for all the columns - "
   ]
  },
  {
   "cell_type": "code",
   "execution_count": 6,
   "metadata": {},
   "outputs": [
    {
     "data": {
      "text/html": [
       "<div>\n",
       "<style scoped>\n",
       "    .dataframe tbody tr th:only-of-type {\n",
       "        vertical-align: middle;\n",
       "    }\n",
       "\n",
       "    .dataframe tbody tr th {\n",
       "        vertical-align: top;\n",
       "    }\n",
       "\n",
       "    .dataframe thead th {\n",
       "        text-align: right;\n",
       "    }\n",
       "</style>\n",
       "<table border=\"1\" class=\"dataframe\">\n",
       "  <thead>\n",
       "    <tr style=\"text-align: right;\">\n",
       "      <th></th>\n",
       "      <th>accountNumber</th>\n",
       "      <th>availableMoney</th>\n",
       "      <th>cardCVV</th>\n",
       "      <th>cardLast4Digits</th>\n",
       "      <th>creditLimit</th>\n",
       "      <th>currentBalance</th>\n",
       "      <th>customerId</th>\n",
       "      <th>enteredCVV</th>\n",
       "      <th>transactionAmount</th>\n",
       "    </tr>\n",
       "  </thead>\n",
       "  <tbody>\n",
       "    <tr>\n",
       "      <th>count</th>\n",
       "      <td>6.419140e+05</td>\n",
       "      <td>641914.000000</td>\n",
       "      <td>641914.000000</td>\n",
       "      <td>641914.000000</td>\n",
       "      <td>641914.000000</td>\n",
       "      <td>641914.000000</td>\n",
       "      <td>6.419140e+05</td>\n",
       "      <td>641914.000000</td>\n",
       "      <td>641914.000000</td>\n",
       "    </tr>\n",
       "    <tr>\n",
       "      <th>mean</th>\n",
       "      <td>5.547701e+08</td>\n",
       "      <td>6652.828573</td>\n",
       "      <td>557.199927</td>\n",
       "      <td>4886.184043</td>\n",
       "      <td>10697.210608</td>\n",
       "      <td>4044.382035</td>\n",
       "      <td>5.547701e+08</td>\n",
       "      <td>556.775160</td>\n",
       "      <td>135.162497</td>\n",
       "    </tr>\n",
       "    <tr>\n",
       "      <th>std</th>\n",
       "      <td>2.546884e+08</td>\n",
       "      <td>9227.132275</td>\n",
       "      <td>257.326204</td>\n",
       "      <td>2859.053679</td>\n",
       "      <td>11460.359133</td>\n",
       "      <td>5945.510224</td>\n",
       "      <td>2.546884e+08</td>\n",
       "      <td>257.402639</td>\n",
       "      <td>147.053302</td>\n",
       "    </tr>\n",
       "    <tr>\n",
       "      <th>min</th>\n",
       "      <td>1.005471e+08</td>\n",
       "      <td>-1244.930000</td>\n",
       "      <td>100.000000</td>\n",
       "      <td>0.000000</td>\n",
       "      <td>250.000000</td>\n",
       "      <td>0.000000</td>\n",
       "      <td>1.005471e+08</td>\n",
       "      <td>1.000000</td>\n",
       "      <td>0.000000</td>\n",
       "    </tr>\n",
       "    <tr>\n",
       "      <th>25%</th>\n",
       "      <td>3.223192e+08</td>\n",
       "      <td>1114.970000</td>\n",
       "      <td>334.000000</td>\n",
       "      <td>2364.000000</td>\n",
       "      <td>5000.000000</td>\n",
       "      <td>502.442500</td>\n",
       "      <td>3.223192e+08</td>\n",
       "      <td>333.000000</td>\n",
       "      <td>32.320000</td>\n",
       "    </tr>\n",
       "    <tr>\n",
       "      <th>50%</th>\n",
       "      <td>5.438879e+08</td>\n",
       "      <td>3578.165000</td>\n",
       "      <td>581.000000</td>\n",
       "      <td>4873.000000</td>\n",
       "      <td>7500.000000</td>\n",
       "      <td>2151.860000</td>\n",
       "      <td>5.438879e+08</td>\n",
       "      <td>580.000000</td>\n",
       "      <td>85.800000</td>\n",
       "    </tr>\n",
       "    <tr>\n",
       "      <th>75%</th>\n",
       "      <td>7.862277e+08</td>\n",
       "      <td>8169.185000</td>\n",
       "      <td>762.000000</td>\n",
       "      <td>7267.000000</td>\n",
       "      <td>15000.000000</td>\n",
       "      <td>5005.890000</td>\n",
       "      <td>7.862277e+08</td>\n",
       "      <td>761.000000</td>\n",
       "      <td>189.030000</td>\n",
       "    </tr>\n",
       "    <tr>\n",
       "      <th>max</th>\n",
       "      <td>9.999853e+08</td>\n",
       "      <td>50000.000000</td>\n",
       "      <td>998.000000</td>\n",
       "      <td>9998.000000</td>\n",
       "      <td>50000.000000</td>\n",
       "      <td>47496.500000</td>\n",
       "      <td>9.999853e+08</td>\n",
       "      <td>998.000000</td>\n",
       "      <td>1825.250000</td>\n",
       "    </tr>\n",
       "  </tbody>\n",
       "</table>\n",
       "</div>"
      ],
      "text/plain": [
       "       accountNumber  availableMoney        cardCVV  cardLast4Digits  \\\n",
       "count   6.419140e+05   641914.000000  641914.000000    641914.000000   \n",
       "mean    5.547701e+08     6652.828573     557.199927      4886.184043   \n",
       "std     2.546884e+08     9227.132275     257.326204      2859.053679   \n",
       "min     1.005471e+08    -1244.930000     100.000000         0.000000   \n",
       "25%     3.223192e+08     1114.970000     334.000000      2364.000000   \n",
       "50%     5.438879e+08     3578.165000     581.000000      4873.000000   \n",
       "75%     7.862277e+08     8169.185000     762.000000      7267.000000   \n",
       "max     9.999853e+08    50000.000000     998.000000      9998.000000   \n",
       "\n",
       "         creditLimit  currentBalance    customerId     enteredCVV  \\\n",
       "count  641914.000000   641914.000000  6.419140e+05  641914.000000   \n",
       "mean    10697.210608     4044.382035  5.547701e+08     556.775160   \n",
       "std     11460.359133     5945.510224  2.546884e+08     257.402639   \n",
       "min       250.000000        0.000000  1.005471e+08       1.000000   \n",
       "25%      5000.000000      502.442500  3.223192e+08     333.000000   \n",
       "50%      7500.000000     2151.860000  5.438879e+08     580.000000   \n",
       "75%     15000.000000     5005.890000  7.862277e+08     761.000000   \n",
       "max     50000.000000    47496.500000  9.999853e+08     998.000000   \n",
       "\n",
       "       transactionAmount  \n",
       "count      641914.000000  \n",
       "mean          135.162497  \n",
       "std           147.053302  \n",
       "min             0.000000  \n",
       "25%            32.320000  \n",
       "50%            85.800000  \n",
       "75%           189.030000  \n",
       "max          1825.250000  "
      ]
     },
     "metadata": {},
     "output_type": "display_data"
    },
    {
     "data": {
      "text/html": [
       "<div>\n",
       "<style scoped>\n",
       "    .dataframe tbody tr th:only-of-type {\n",
       "        vertical-align: middle;\n",
       "    }\n",
       "\n",
       "    .dataframe tbody tr th {\n",
       "        vertical-align: top;\n",
       "    }\n",
       "\n",
       "    .dataframe thead th {\n",
       "        text-align: right;\n",
       "    }\n",
       "</style>\n",
       "<table border=\"1\" class=\"dataframe\">\n",
       "  <thead>\n",
       "    <tr style=\"text-align: right;\">\n",
       "      <th></th>\n",
       "      <th>accountOpenDate</th>\n",
       "      <th>acqCountry</th>\n",
       "      <th>currentExpDate</th>\n",
       "      <th>dateOfLastAddressChange</th>\n",
       "      <th>echoBuffer</th>\n",
       "      <th>merchantCategoryCode</th>\n",
       "      <th>merchantCity</th>\n",
       "      <th>merchantCountryCode</th>\n",
       "      <th>merchantName</th>\n",
       "      <th>merchantState</th>\n",
       "      <th>merchantZip</th>\n",
       "      <th>posConditionCode</th>\n",
       "      <th>posEntryMode</th>\n",
       "      <th>posOnPremises</th>\n",
       "      <th>recurringAuthInd</th>\n",
       "      <th>transactionDateTime</th>\n",
       "      <th>transactionType</th>\n",
       "    </tr>\n",
       "  </thead>\n",
       "  <tbody>\n",
       "    <tr>\n",
       "      <th>count</th>\n",
       "      <td>641914</td>\n",
       "      <td>641914</td>\n",
       "      <td>641914</td>\n",
       "      <td>641914</td>\n",
       "      <td>641914</td>\n",
       "      <td>641914</td>\n",
       "      <td>641914</td>\n",
       "      <td>641914</td>\n",
       "      <td>641914</td>\n",
       "      <td>641914</td>\n",
       "      <td>641914</td>\n",
       "      <td>641914</td>\n",
       "      <td>641914</td>\n",
       "      <td>641914</td>\n",
       "      <td>641914</td>\n",
       "      <td>641914</td>\n",
       "      <td>641914</td>\n",
       "    </tr>\n",
       "    <tr>\n",
       "      <th>unique</th>\n",
       "      <td>1826</td>\n",
       "      <td>5</td>\n",
       "      <td>165</td>\n",
       "      <td>2186</td>\n",
       "      <td>1</td>\n",
       "      <td>19</td>\n",
       "      <td>1</td>\n",
       "      <td>5</td>\n",
       "      <td>2493</td>\n",
       "      <td>1</td>\n",
       "      <td>1</td>\n",
       "      <td>4</td>\n",
       "      <td>6</td>\n",
       "      <td>1</td>\n",
       "      <td>1</td>\n",
       "      <td>635472</td>\n",
       "      <td>4</td>\n",
       "    </tr>\n",
       "    <tr>\n",
       "      <th>top</th>\n",
       "      <td>2015-12-11</td>\n",
       "      <td>US</td>\n",
       "      <td>05/2026</td>\n",
       "      <td>2016-07-20</td>\n",
       "      <td></td>\n",
       "      <td>online_retail</td>\n",
       "      <td></td>\n",
       "      <td>US</td>\n",
       "      <td>Lyft</td>\n",
       "      <td></td>\n",
       "      <td></td>\n",
       "      <td>01</td>\n",
       "      <td>05</td>\n",
       "      <td></td>\n",
       "      <td></td>\n",
       "      <td>2016-04-04T20:22:12</td>\n",
       "      <td>PURCHASE</td>\n",
       "    </tr>\n",
       "    <tr>\n",
       "      <th>freq</th>\n",
       "      <td>10137</td>\n",
       "      <td>632303</td>\n",
       "      <td>4209</td>\n",
       "      <td>3948</td>\n",
       "      <td>641914</td>\n",
       "      <td>161469</td>\n",
       "      <td>641914</td>\n",
       "      <td>635577</td>\n",
       "      <td>25311</td>\n",
       "      <td>641914</td>\n",
       "      <td>641914</td>\n",
       "      <td>514144</td>\n",
       "      <td>255615</td>\n",
       "      <td>641914</td>\n",
       "      <td>641914</td>\n",
       "      <td>3</td>\n",
       "      <td>608685</td>\n",
       "    </tr>\n",
       "  </tbody>\n",
       "</table>\n",
       "</div>"
      ],
      "text/plain": [
       "       accountOpenDate acqCountry currentExpDate dateOfLastAddressChange  \\\n",
       "count           641914     641914         641914                  641914   \n",
       "unique            1826          5            165                    2186   \n",
       "top         2015-12-11         US        05/2026              2016-07-20   \n",
       "freq             10137     632303           4209                    3948   \n",
       "\n",
       "       echoBuffer merchantCategoryCode merchantCity merchantCountryCode  \\\n",
       "count      641914               641914       641914              641914   \n",
       "unique          1                   19            1                   5   \n",
       "top                      online_retail                               US   \n",
       "freq       641914               161469       641914              635577   \n",
       "\n",
       "       merchantName merchantState merchantZip posConditionCode posEntryMode  \\\n",
       "count        641914        641914      641914           641914       641914   \n",
       "unique         2493             1           1                4            6   \n",
       "top            Lyft                                         01           05   \n",
       "freq          25311        641914      641914           514144       255615   \n",
       "\n",
       "       posOnPremises recurringAuthInd  transactionDateTime transactionType  \n",
       "count         641914           641914               641914          641914  \n",
       "unique             1                1               635472               4  \n",
       "top                                    2016-04-04T20:22:12        PURCHASE  \n",
       "freq          641914           641914                    3          608685  "
      ]
     },
     "metadata": {},
     "output_type": "display_data"
    },
    {
     "data": {
      "text/html": [
       "<div>\n",
       "<style scoped>\n",
       "    .dataframe tbody tr th:only-of-type {\n",
       "        vertical-align: middle;\n",
       "    }\n",
       "\n",
       "    .dataframe tbody tr th {\n",
       "        vertical-align: top;\n",
       "    }\n",
       "\n",
       "    .dataframe thead th {\n",
       "        text-align: right;\n",
       "    }\n",
       "</style>\n",
       "<table border=\"1\" class=\"dataframe\">\n",
       "  <thead>\n",
       "    <tr style=\"text-align: right;\">\n",
       "      <th></th>\n",
       "      <th>cardPresent</th>\n",
       "      <th>expirationDateKeyInMatch</th>\n",
       "      <th>isFraud</th>\n",
       "    </tr>\n",
       "  </thead>\n",
       "  <tbody>\n",
       "    <tr>\n",
       "      <th>count</th>\n",
       "      <td>641914</td>\n",
       "      <td>641914</td>\n",
       "      <td>641914</td>\n",
       "    </tr>\n",
       "    <tr>\n",
       "      <th>unique</th>\n",
       "      <td>2</td>\n",
       "      <td>2</td>\n",
       "      <td>2</td>\n",
       "    </tr>\n",
       "    <tr>\n",
       "      <th>top</th>\n",
       "      <td>False</td>\n",
       "      <td>False</td>\n",
       "      <td>False</td>\n",
       "    </tr>\n",
       "    <tr>\n",
       "      <th>freq</th>\n",
       "      <td>340453</td>\n",
       "      <td>640945</td>\n",
       "      <td>630612</td>\n",
       "    </tr>\n",
       "  </tbody>\n",
       "</table>\n",
       "</div>"
      ],
      "text/plain": [
       "       cardPresent expirationDateKeyInMatch isFraud\n",
       "count       641914                   641914  641914\n",
       "unique           2                        2       2\n",
       "top          False                    False   False\n",
       "freq        340453                   640945  630612"
      ]
     },
     "metadata": {},
     "output_type": "display_data"
    }
   ],
   "source": [
    "display(df.describe(include = [np.number]))\n",
    "\n",
    "display(df.describe(include=['O']))\n",
    "\n",
    "display(df.describe(include=['bool']))"
   ]
  },
  {
   "cell_type": "markdown",
   "metadata": {},
   "source": [
    "# Question 2: Plot\n",
    "\n",
    "##### A). Plot a histogram of the processed amounts of each transaction, the transactionAmount column"
   ]
  },
  {
   "cell_type": "markdown",
   "metadata": {},
   "source": [
    "#### Plot a histogram of the processed amounts of each transaction, the transactionAmount column."
   ]
  },
  {
   "cell_type": "code",
   "execution_count": 7,
   "metadata": {},
   "outputs": [
    {
     "data": {
      "text/plain": [
       "<matplotlib.text.Text at 0x7f1301833240>"
      ]
     },
     "execution_count": 7,
     "metadata": {},
     "output_type": "execute_result"
    },
    {
     "data": {
      "image/png": "[encoded data removed]",
      "text/plain": [
       "<matplotlib.figure.Figure at 0x7f13018332b0>"
      ]
     },
     "metadata": {},
     "output_type": "display_data"
    }
   ],
   "source": [
    "df.transactionAmount.plot.hist(title='Histogram of the processed amounts of each transaction',\n",
    "                               colormap='jet',\n",
    "                               figsize=(20,5))\n",
    "plt.xlabel('transactionAmount')"
   ]
  },
  {
   "cell_type": "markdown",
   "metadata": {},
   "source": [
    "#### Hiistogram for transaction amount broken down by isFraud class"
   ]
  },
  {
   "cell_type": "code",
   "execution_count": 11,
   "metadata": {},
   "outputs": [
    {
     "data": {
      "text/plain": [
       "array([<matplotlib.axes._subplots.AxesSubplot object at 0x7f1e95cb4128>,\n",
       "       <matplotlib.axes._subplots.AxesSubplot object at 0x7f1e95cdb2b0>],\n",
       "      dtype=object)"
      ]
     },
     "execution_count": 11,
     "metadata": {},
     "output_type": "execute_result"
    },
    {
     "data": {
      "image/png": "[encoded data removed]",
      "text/plain": [
       "<matplotlib.figure.Figure at 0x7f1e95caa668>"
      ]
     },
     "metadata": {},
     "output_type": "display_data"
    }
   ],
   "source": [
    "df['transactionAmount'].hist(by=df.isFraud, figsize=(20,6))"
   ]
  },
  {
   "cell_type": "markdown",
   "metadata": {},
   "source": [
    "##### B). Report any structure you find and any hypotheses you have about that structure"
   ]
  },
  {
   "cell_type": "markdown",
   "metadata": {},
   "source": [
    "A histogram is right skewed if the peak of the histogram veers to the left. Therefore, the histogram’s tail has a positive skew to the right. So we can conclude that distribution of transactionAmount is Right Skeweed. TransactionAmount skewed to the right is usually a result of a lower boundary in a data set. So if the transactionAmount's lower bounds are extremely low relative to the rest of the data, this will cause the data to skew right.\n",
    "\n",
    "You can do differrent transformation like log etc. on skewed data to get it closer to Normal Distribution "
   ]
  },
  {
   "cell_type": "code",
   "execution_count": 12,
   "metadata": {
    "collapsed": true
   },
   "outputs": [],
   "source": [
    "# df[['transactionDateTime','transactionAmount']].set_index('transactionDateTime').plot(figsize=(20,6))"
   ]
  },
  {
   "cell_type": "markdown",
   "metadata": {},
   "source": [
    "# Questiion 3: Data Wrangling - Duplicate Transactions\n",
    "\n",
    "You will notice a number of what look like duplicated transactions in the data set. One type of duplicated transaction is a reversed transaction, where a purchase is followed by a reversal. Another example is a multi-swipe, where a vendor accidentally charges a customer's card multiple times within a short time span.\n",
    "\n",
    "Can you programmatically identify reversed and multi-swipe transactions?\n",
    "\n",
    "What total number of transactions and total dollar amount do you estimate for the reversed transactions? For the multi-swipe transactions? (please consider the first transaction to be \"normal\" and exclude it from the number of transaction and dollar amount counts)"
   ]
  },
  {
   "cell_type": "markdown",
   "metadata": {},
   "source": [
    "### Reversed Transaction"
   ]
  },
  {
   "cell_type": "code",
   "execution_count": 13,
   "metadata": {
    "collapsed": true
   },
   "outputs": [],
   "source": [
    "cols = ['accountNumber','cardLast4Digits', 'cardCVV','transactionDateTime','transactionAmount', \n",
    "        'availableMoney', 'next_availableMoney','transactionType', 'creditLimit', 'merchantName']\n",
    "\n",
    "df.sort_values(['accountNumber','cardLast4Digits','cardCVV','transactionDateTime'], inplace=True)"
   ]
  },
  {
   "cell_type": "code",
   "execution_count": 14,
   "metadata": {},
   "outputs": [
    {
     "name": "stdout",
     "output_type": "stream",
     "text": [
      "\n",
      "Total number of REVERSAL transcation:- 8630\n",
      "\n",
      "Total amount of REVERSAL transcation:- 1167576.9000000001\n"
     ]
    }
   ],
   "source": [
    "# df['next_transactionAmount'] = df.transactionAmount.shift(1)\n",
    "df['next_availableMoney'] = df.groupby(['accountNumber','cardLast4Digits', 'cardCVV']).availableMoney.shift(-1)\n",
    "\n",
    "df['calc_Reversed'] = 'NON_REVERSAL'\n",
    "\n",
    "# df.loc[df.next_availableMoney == df.creditLimit, 'calc_Reversed'] = 'CARD PAYMENT'\n",
    "\n",
    "df.loc[(df.transactionAmount > 0)  & (df.next_availableMoney == (df.availableMoney + df.transactionAmount)), \n",
    "       'calc_Reversed'] = 'REVERSAL'\n",
    "\n",
    "print(F\"\\nTotal number of REVERSAL transcation:- {df.loc[df.calc_Reversed == 'REVERSAL'].shape[0]}\")\n",
    "print(F\"\\nTotal amount of REVERSAL transcation:- {df.loc[df.calc_Reversed == 'REVERSAL'].transactionAmount.sum()}\")"
   ]
  },
  {
   "cell_type": "markdown",
   "metadata": {},
   "source": [
    "###  Multi-Swipe Transaction"
   ]
  },
  {
   "cell_type": "code",
   "execution_count": 15,
   "metadata": {},
   "outputs": [
    {
     "name": "stdout",
     "output_type": "stream",
     "text": [
      "\n",
      "Total number of transcation with MULTISWIPE: 19772\n",
      "\n",
      "Total amount of transcation with MULTISWIPE: 1885166.17\n"
     ]
    }
   ],
   "source": [
    "df['calc_mul_swipe'] = 'Not_multiSwipe'\n",
    "\n",
    "df['prev_transactionAmount'] = df.groupby(['accountNumber','cardLast4Digits', 'cardCVV']).transactionAmount.shift(1)\n",
    "df['prev_merchantName'] = df.groupby(['accountNumber','cardLast4Digits', 'cardCVV']).merchantName.shift(1)\n",
    "df.loc[(df.transactionAmount == df.prev_transactionAmount) & (df.merchantName == df.prev_merchantName), \n",
    "       'calc_mul_swipe'] = 'MULTISWIPE'\n",
    "\n",
    "print(F\"\\nTotal number of transcation with MULTISWIPE: {df.loc[df.calc_mul_swipe == 'MULTISWIPE'].shape[0]}\")\n",
    "print(F\"\\nTotal amount of transcation with MULTISWIPE: {df.loc[df.calc_mul_swipe == 'MULTISWIPE'].transactionAmount.sum()}\")"
   ]
  },
  {
   "cell_type": "code",
   "execution_count": 16,
   "metadata": {
    "collapsed": true
   },
   "outputs": [],
   "source": [
    "del df['next_availableMoney']\n",
    "del df['calc_Reversed']\n",
    "del df['calc_mul_swipe']\n",
    "del df['prev_transactionAmount']\n",
    "del df['prev_merchantName']"
   ]
  },
  {
   "cell_type": "code",
   "execution_count": 47,
   "metadata": {
    "collapsed": true
   },
   "outputs": [],
   "source": [
    "# df.loc[(df.cardLast4Digits == 9985) & (df.transactionAmount == 370.81)][cols + ['calc_Reversed','calc_mul_swipe']]"
   ]
  },
  {
   "cell_type": "code",
   "execution_count": 48,
   "metadata": {
    "collapsed": true
   },
   "outputs": [],
   "source": [
    "# df.loc[df.calc_T2 == 'MULTISWIPE'][cols + ['calc_Reversed','calc_mul_swipe']]"
   ]
  },
  {
   "cell_type": "code",
   "execution_count": 49,
   "metadata": {
    "collapsed": true
   },
   "outputs": [],
   "source": [
    "# df.loc[df.cardLast4Digits == 9990][cols + ['calc_Reversed','calc_mul_swipe']]"
   ]
  },
  {
   "cell_type": "code",
   "execution_count": 17,
   "metadata": {
    "collapsed": true
   },
   "outputs": [],
   "source": [
    "# df.loc[605610]"
   ]
  },
  {
   "cell_type": "code",
   "execution_count": 18,
   "metadata": {
    "collapsed": true
   },
   "outputs": [],
   "source": [
    "# df.loc[(df.cardLast4Digits ==40) & ( df.transactionAmount == 344.69)][cols + ['calc_Reversed','calc_mul_swipe']]"
   ]
  },
  {
   "cell_type": "markdown",
   "metadata": {},
   "source": [
    "# Question 4\n",
    "\n",
    "Model\n",
    "\n",
    "Fraud is a problem for any bank. Fraud can take many forms, whether it is someone stealing a single credit card, to large batches of stolen credit card numbers being used on the web, or even a mass compromise of credit card numbers stolen from a merchant via tools like credit card skimming devices.\n",
    "\n",
    "Each of the transactions in the dataset has a field called isFraud. Please build a predictive model to determine whether a given transaction will be fraudulent or not. Use as much of the data as you like (or all of it).\n",
    "\n",
    "Provide an estimate of performance using an appropriate sample, and show your work."
   ]
  },
  {
   "cell_type": "markdown",
   "metadata": {},
   "source": [
    "#### Handle Missing Values\n",
    "Replacing blank values (white space) with NaN "
   ]
  },
  {
   "cell_type": "code",
   "execution_count": 19,
   "metadata": {
    "collapsed": true
   },
   "outputs": [],
   "source": [
    "df.replace(r'^\\s*$', np.nan, regex=True, inplace=True)"
   ]
  },
  {
   "cell_type": "markdown",
   "metadata": {},
   "source": [
    "#### List of column names to be deleted due to missing values."
   ]
  },
  {
   "cell_type": "code",
   "execution_count": 20,
   "metadata": {},
   "outputs": [
    {
     "data": {
      "text/plain": [
       "['echoBuffer',\n",
       " 'merchantCity',\n",
       " 'merchantState',\n",
       " 'merchantZip',\n",
       " 'posOnPremises',\n",
       " 'recurringAuthInd']"
      ]
     },
     "execution_count": 20,
     "metadata": {},
     "output_type": "execute_result"
    }
   ],
   "source": [
    "[col for col in df if col not in df.dropna(axis=1, how='all')]"
   ]
  },
  {
   "cell_type": "markdown",
   "metadata": {},
   "source": [
    "#### Delete all columns with missing value"
   ]
  },
  {
   "cell_type": "code",
   "execution_count": 21,
   "metadata": {
    "collapsed": true
   },
   "outputs": [],
   "source": [
    "df.dropna(axis=1, how='all',inplace=True)"
   ]
  },
  {
   "cell_type": "markdown",
   "metadata": {},
   "source": [
    "#### Convert Date columns to Datatime Format"
   ]
  },
  {
   "cell_type": "code",
   "execution_count": 33,
   "metadata": {
    "collapsed": true
   },
   "outputs": [],
   "source": [
    "df['transactionDateTime'] = pd.to_datetime(df.transactionDateTime)\n",
    "df['accountOpenDate'] = pd.to_datetime(df.accountOpenDate)\n",
    "df['dateOfLastAddressChange'] = pd.to_datetime(df.dateOfLastAddressChange)"
   ]
  },
  {
   "cell_type": "code",
   "execution_count": 28,
   "metadata": {
    "collapsed": true
   },
   "outputs": [],
   "source": [
    "# df['month'] = df.transactionDateTime.dt.month\n",
    "# df['day'] = df.transactionDateTime.dt.day\n",
    "# df['dow'] = df.transactionDateTime.dt.dayofweek\n",
    "# df['hour'] = df.transactionDateTime.dt.hour\n",
    "\n",
    "# sns.pairplot(df, vars=[\"cardLast4Digits\", \"transactionAmount\",\"creditLimit\",\"currentBalance\"], \n",
    "#              hue ='isFraud')"
   ]
  },
  {
   "cell_type": "markdown",
   "metadata": {},
   "source": [
    "#### Check value counts for column:-  isFraud"
   ]
  },
  {
   "cell_type": "code",
   "execution_count": 29,
   "metadata": {},
   "outputs": [
    {
     "data": {
      "text/plain": [
       "<matplotlib.axes._subplots.AxesSubplot at 0x7f1e95540240>"
      ]
     },
     "execution_count": 29,
     "metadata": {},
     "output_type": "execute_result"
    },
    {
     "data": {
      "image/png": "[encoded data removed]",
      "text/plain": [
       "<matplotlib.figure.Figure at 0x7f1e95540080>"
      ]
     },
     "metadata": {},
     "output_type": "display_data"
    }
   ],
   "source": [
    "plt.figure(figsize=(15, 6))\n",
    "sns.countplot(x=\"isFraud\", data=df)"
   ]
  },
  {
   "cell_type": "markdown",
   "metadata": {},
   "source": [
    "####  Check for Outlier values in transactionAmount"
   ]
  },
  {
   "cell_type": "code",
   "execution_count": 30,
   "metadata": {},
   "outputs": [
    {
     "data": {
      "text/plain": [
       "<matplotlib.text.Text at 0x7f1e96151710>"
      ]
     },
     "execution_count": 30,
     "metadata": {},
     "output_type": "execute_result"
    },
    {
     "data": {
      "image/png": "[encoded data removed]",
      "text/plain": [
       "<matplotlib.figure.Figure at 0x7f1e95be2a90>"
      ]
     },
     "metadata": {},
     "output_type": "display_data"
    }
   ],
   "source": [
    "sns.boxplot(data=df, x='isFraud', y='transactionAmount').set_title('Box Plot of Fraud Group')"
   ]
  },
  {
   "cell_type": "markdown",
   "metadata": {},
   "source": [
    "#### Correlation Matrix"
   ]
  },
  {
   "cell_type": "code",
   "execution_count": 31,
   "metadata": {},
   "outputs": [
    {
     "data": {
      "text/html": [
       "<style  type=\"text/css\" >\n",
       "    #T_5a8db82e_26b5_11ea_94b3_0e20b7b750c6row0_col0 {\n",
       "            background-color:  #b40426;\n",
       "            color:  #f1f1f1;\n",
       "        }    #T_5a8db82e_26b5_11ea_94b3_0e20b7b750c6row0_col1 {\n",
       "            background-color:  #3b4cc0;\n",
       "            color:  #f1f1f1;\n",
       "        }    #T_5a8db82e_26b5_11ea_94b3_0e20b7b750c6row0_col2 {\n",
       "            background-color:  #4055c8;\n",
       "            color:  #f1f1f1;\n",
       "        }    #T_5a8db82e_26b5_11ea_94b3_0e20b7b750c6row0_col3 {\n",
       "            background-color:  #4961d2;\n",
       "            color:  #f1f1f1;\n",
       "        }    #T_5a8db82e_26b5_11ea_94b3_0e20b7b750c6row0_col4 {\n",
       "            background-color:  #4358cb;\n",
       "            color:  #f1f1f1;\n",
       "        }    #T_5a8db82e_26b5_11ea_94b3_0e20b7b750c6row0_col5 {\n",
       "            background-color:  #3b4cc0;\n",
       "            color:  #f1f1f1;\n",
       "        }    #T_5a8db82e_26b5_11ea_94b3_0e20b7b750c6row0_col6 {\n",
       "            background-color:  #3b4cc0;\n",
       "            color:  #f1f1f1;\n",
       "        }    #T_5a8db82e_26b5_11ea_94b3_0e20b7b750c6row0_col7 {\n",
       "            background-color:  #b40426;\n",
       "            color:  #f1f1f1;\n",
       "        }    #T_5a8db82e_26b5_11ea_94b3_0e20b7b750c6row0_col8 {\n",
       "            background-color:  #4055c8;\n",
       "            color:  #f1f1f1;\n",
       "        }    #T_5a8db82e_26b5_11ea_94b3_0e20b7b750c6row0_col9 {\n",
       "            background-color:  #3c4ec2;\n",
       "            color:  #f1f1f1;\n",
       "        }    #T_5a8db82e_26b5_11ea_94b3_0e20b7b750c6row0_col10 {\n",
       "            background-color:  #3c4ec2;\n",
       "            color:  #f1f1f1;\n",
       "        }    #T_5a8db82e_26b5_11ea_94b3_0e20b7b750c6row0_col11 {\n",
       "            background-color:  #3d50c3;\n",
       "            color:  #f1f1f1;\n",
       "        }    #T_5a8db82e_26b5_11ea_94b3_0e20b7b750c6row1_col0 {\n",
       "            background-color:  #4257c9;\n",
       "            color:  #f1f1f1;\n",
       "        }    #T_5a8db82e_26b5_11ea_94b3_0e20b7b750c6row1_col1 {\n",
       "            background-color:  #b40426;\n",
       "            color:  #f1f1f1;\n",
       "        }    #T_5a8db82e_26b5_11ea_94b3_0e20b7b750c6row1_col2 {\n",
       "            background-color:  #485fd1;\n",
       "            color:  #f1f1f1;\n",
       "        }    #T_5a8db82e_26b5_11ea_94b3_0e20b7b750c6row1_col3 {\n",
       "            background-color:  #4358cb;\n",
       "            color:  #f1f1f1;\n",
       "        }    #T_5a8db82e_26b5_11ea_94b3_0e20b7b750c6row1_col4 {\n",
       "            background-color:  #3d50c3;\n",
       "            color:  #f1f1f1;\n",
       "        }    #T_5a8db82e_26b5_11ea_94b3_0e20b7b750c6row1_col5 {\n",
       "            background-color:  #e0654f;\n",
       "            color:  #000000;\n",
       "        }    #T_5a8db82e_26b5_11ea_94b3_0e20b7b750c6row1_col6 {\n",
       "            background-color:  #688aef;\n",
       "            color:  #000000;\n",
       "        }    #T_5a8db82e_26b5_11ea_94b3_0e20b7b750c6row1_col7 {\n",
       "            background-color:  #4257c9;\n",
       "            color:  #f1f1f1;\n",
       "        }    #T_5a8db82e_26b5_11ea_94b3_0e20b7b750c6row1_col8 {\n",
       "            background-color:  #485fd1;\n",
       "            color:  #f1f1f1;\n",
       "        }    #T_5a8db82e_26b5_11ea_94b3_0e20b7b750c6row1_col9 {\n",
       "            background-color:  #3b4cc0;\n",
       "            color:  #f1f1f1;\n",
       "        }    #T_5a8db82e_26b5_11ea_94b3_0e20b7b750c6row1_col10 {\n",
       "            background-color:  #3e51c5;\n",
       "            color:  #f1f1f1;\n",
       "        }    #T_5a8db82e_26b5_11ea_94b3_0e20b7b750c6row1_col11 {\n",
       "            background-color:  #3b4cc0;\n",
       "            color:  #f1f1f1;\n",
       "        }    #T_5a8db82e_26b5_11ea_94b3_0e20b7b750c6row2_col0 {\n",
       "            background-color:  #455cce;\n",
       "            color:  #f1f1f1;\n",
       "        }    #T_5a8db82e_26b5_11ea_94b3_0e20b7b750c6row2_col1 {\n",
       "            background-color:  #455cce;\n",
       "            color:  #f1f1f1;\n",
       "        }    #T_5a8db82e_26b5_11ea_94b3_0e20b7b750c6row2_col2 {\n",
       "            background-color:  #b40426;\n",
       "            color:  #f1f1f1;\n",
       "        }    #T_5a8db82e_26b5_11ea_94b3_0e20b7b750c6row2_col3 {\n",
       "            background-color:  #3e51c5;\n",
       "            color:  #f1f1f1;\n",
       "        }    #T_5a8db82e_26b5_11ea_94b3_0e20b7b750c6row2_col4 {\n",
       "            background-color:  #4257c9;\n",
       "            color:  #f1f1f1;\n",
       "        }    #T_5a8db82e_26b5_11ea_94b3_0e20b7b750c6row2_col5 {\n",
       "            background-color:  #4f69d9;\n",
       "            color:  #000000;\n",
       "        }    #T_5a8db82e_26b5_11ea_94b3_0e20b7b750c6row2_col6 {\n",
       "            background-color:  #536edd;\n",
       "            color:  #000000;\n",
       "        }    #T_5a8db82e_26b5_11ea_94b3_0e20b7b750c6row2_col7 {\n",
       "            background-color:  #455cce;\n",
       "            color:  #f1f1f1;\n",
       "        }    #T_5a8db82e_26b5_11ea_94b3_0e20b7b750c6row2_col8 {\n",
       "            background-color:  #b50927;\n",
       "            color:  #f1f1f1;\n",
       "        }    #T_5a8db82e_26b5_11ea_94b3_0e20b7b750c6row2_col9 {\n",
       "            background-color:  #3b4cc0;\n",
       "            color:  #f1f1f1;\n",
       "        }    #T_5a8db82e_26b5_11ea_94b3_0e20b7b750c6row2_col10 {\n",
       "            background-color:  #3c4ec2;\n",
       "            color:  #f1f1f1;\n",
       "        }    #T_5a8db82e_26b5_11ea_94b3_0e20b7b750c6row2_col11 {\n",
       "            background-color:  #3e51c5;\n",
       "            color:  #f1f1f1;\n",
       "        }    #T_5a8db82e_26b5_11ea_94b3_0e20b7b750c6row3_col0 {\n",
       "            background-color:  #4a63d3;\n",
       "            color:  #f1f1f1;\n",
       "        }    #T_5a8db82e_26b5_11ea_94b3_0e20b7b750c6row3_col1 {\n",
       "            background-color:  #3d50c3;\n",
       "            color:  #f1f1f1;\n",
       "        }    #T_5a8db82e_26b5_11ea_94b3_0e20b7b750c6row3_col2 {\n",
       "            background-color:  #3b4cc0;\n",
       "            color:  #f1f1f1;\n",
       "        }    #T_5a8db82e_26b5_11ea_94b3_0e20b7b750c6row3_col3 {\n",
       "            background-color:  #b40426;\n",
       "            color:  #f1f1f1;\n",
       "        }    #T_5a8db82e_26b5_11ea_94b3_0e20b7b750c6row3_col4 {\n",
       "            background-color:  #445acc;\n",
       "            color:  #f1f1f1;\n",
       "        }    #T_5a8db82e_26b5_11ea_94b3_0e20b7b750c6row3_col5 {\n",
       "            background-color:  #3d50c3;\n",
       "            color:  #f1f1f1;\n",
       "        }    #T_5a8db82e_26b5_11ea_94b3_0e20b7b750c6row3_col6 {\n",
       "            background-color:  #3b4cc0;\n",
       "            color:  #f1f1f1;\n",
       "        }    #T_5a8db82e_26b5_11ea_94b3_0e20b7b750c6row3_col7 {\n",
       "            background-color:  #4a63d3;\n",
       "            color:  #f1f1f1;\n",
       "        }    #T_5a8db82e_26b5_11ea_94b3_0e20b7b750c6row3_col8 {\n",
       "            background-color:  #3b4cc0;\n",
       "            color:  #f1f1f1;\n",
       "        }    #T_5a8db82e_26b5_11ea_94b3_0e20b7b750c6row3_col9 {\n",
       "            background-color:  #3c4ec2;\n",
       "            color:  #f1f1f1;\n",
       "        }    #T_5a8db82e_26b5_11ea_94b3_0e20b7b750c6row3_col10 {\n",
       "            background-color:  #3d50c3;\n",
       "            color:  #f1f1f1;\n",
       "        }    #T_5a8db82e_26b5_11ea_94b3_0e20b7b750c6row3_col11 {\n",
       "            background-color:  #3c4ec2;\n",
       "            color:  #f1f1f1;\n",
       "        }    #T_5a8db82e_26b5_11ea_94b3_0e20b7b750c6row4_col0 {\n",
       "            background-color:  #4b64d5;\n",
       "            color:  #f1f1f1;\n",
       "        }    #T_5a8db82e_26b5_11ea_94b3_0e20b7b750c6row4_col1 {\n",
       "            background-color:  #3e51c5;\n",
       "            color:  #f1f1f1;\n",
       "        }    #T_5a8db82e_26b5_11ea_94b3_0e20b7b750c6row4_col2 {\n",
       "            background-color:  #445acc;\n",
       "            color:  #f1f1f1;\n",
       "        }    #T_5a8db82e_26b5_11ea_94b3_0e20b7b750c6row4_col3 {\n",
       "            background-color:  #4a63d3;\n",
       "            color:  #f1f1f1;\n",
       "        }    #T_5a8db82e_26b5_11ea_94b3_0e20b7b750c6row4_col4 {\n",
       "            background-color:  #b40426;\n",
       "            color:  #f1f1f1;\n",
       "        }    #T_5a8db82e_26b5_11ea_94b3_0e20b7b750c6row4_col5 {\n",
       "            background-color:  #4257c9;\n",
       "            color:  #f1f1f1;\n",
       "        }    #T_5a8db82e_26b5_11ea_94b3_0e20b7b750c6row4_col6 {\n",
       "            background-color:  #4257c9;\n",
       "            color:  #f1f1f1;\n",
       "        }    #T_5a8db82e_26b5_11ea_94b3_0e20b7b750c6row4_col7 {\n",
       "            background-color:  #4b64d5;\n",
       "            color:  #f1f1f1;\n",
       "        }    #T_5a8db82e_26b5_11ea_94b3_0e20b7b750c6row4_col8 {\n",
       "            background-color:  #445acc;\n",
       "            color:  #f1f1f1;\n",
       "        }    #T_5a8db82e_26b5_11ea_94b3_0e20b7b750c6row4_col9 {\n",
       "            background-color:  #485fd1;\n",
       "            color:  #f1f1f1;\n",
       "        }    #T_5a8db82e_26b5_11ea_94b3_0e20b7b750c6row4_col10 {\n",
       "            background-color:  #3b4cc0;\n",
       "            color:  #f1f1f1;\n",
       "        }    #T_5a8db82e_26b5_11ea_94b3_0e20b7b750c6row4_col11 {\n",
       "            background-color:  #4a63d3;\n",
       "            color:  #f1f1f1;\n",
       "        }    #T_5a8db82e_26b5_11ea_94b3_0e20b7b750c6row5_col0 {\n",
       "            background-color:  #3b4cc0;\n",
       "            color:  #f1f1f1;\n",
       "        }    #T_5a8db82e_26b5_11ea_94b3_0e20b7b750c6row5_col1 {\n",
       "            background-color:  #e16751;\n",
       "            color:  #000000;\n",
       "        }    #T_5a8db82e_26b5_11ea_94b3_0e20b7b750c6row5_col2 {\n",
       "            background-color:  #4b64d5;\n",
       "            color:  #f1f1f1;\n",
       "        }    #T_5a8db82e_26b5_11ea_94b3_0e20b7b750c6row5_col3 {\n",
       "            background-color:  #3d50c3;\n",
       "            color:  #f1f1f1;\n",
       "        }    #T_5a8db82e_26b5_11ea_94b3_0e20b7b750c6row5_col4 {\n",
       "            background-color:  #3b4cc0;\n",
       "            color:  #f1f1f1;\n",
       "        }    #T_5a8db82e_26b5_11ea_94b3_0e20b7b750c6row5_col5 {\n",
       "            background-color:  #b40426;\n",
       "            color:  #f1f1f1;\n",
       "        }    #T_5a8db82e_26b5_11ea_94b3_0e20b7b750c6row5_col6 {\n",
       "            background-color:  #f4c6af;\n",
       "            color:  #000000;\n",
       "        }    #T_5a8db82e_26b5_11ea_94b3_0e20b7b750c6row5_col7 {\n",
       "            background-color:  #3b4cc0;\n",
       "            color:  #f1f1f1;\n",
       "        }    #T_5a8db82e_26b5_11ea_94b3_0e20b7b750c6row5_col8 {\n",
       "            background-color:  #4b64d5;\n",
       "            color:  #f1f1f1;\n",
       "        }    #T_5a8db82e_26b5_11ea_94b3_0e20b7b750c6row5_col9 {\n",
       "            background-color:  #3b4cc0;\n",
       "            color:  #f1f1f1;\n",
       "        }    #T_5a8db82e_26b5_11ea_94b3_0e20b7b750c6row5_col10 {\n",
       "            background-color:  #3f53c6;\n",
       "            color:  #f1f1f1;\n",
       "        }    #T_5a8db82e_26b5_11ea_94b3_0e20b7b750c6row5_col11 {\n",
       "            background-color:  #3e51c5;\n",
       "            color:  #f1f1f1;\n",
       "        }    #T_5a8db82e_26b5_11ea_94b3_0e20b7b750c6row6_col0 {\n",
       "            background-color:  #3b4cc0;\n",
       "            color:  #f1f1f1;\n",
       "        }    #T_5a8db82e_26b5_11ea_94b3_0e20b7b750c6row6_col1 {\n",
       "            background-color:  #6282ea;\n",
       "            color:  #000000;\n",
       "        }    #T_5a8db82e_26b5_11ea_94b3_0e20b7b750c6row6_col2 {\n",
       "            background-color:  #4e68d8;\n",
       "            color:  #000000;\n",
       "        }    #T_5a8db82e_26b5_11ea_94b3_0e20b7b750c6row6_col3 {\n",
       "            background-color:  #3b4cc0;\n",
       "            color:  #f1f1f1;\n",
       "        }    #T_5a8db82e_26b5_11ea_94b3_0e20b7b750c6row6_col4 {\n",
       "            background-color:  #3b4cc0;\n",
       "            color:  #f1f1f1;\n",
       "        }    #T_5a8db82e_26b5_11ea_94b3_0e20b7b750c6row6_col5 {\n",
       "            background-color:  #f4c6af;\n",
       "            color:  #000000;\n",
       "        }    #T_5a8db82e_26b5_11ea_94b3_0e20b7b750c6row6_col6 {\n",
       "            background-color:  #b40426;\n",
       "            color:  #f1f1f1;\n",
       "        }    #T_5a8db82e_26b5_11ea_94b3_0e20b7b750c6row6_col7 {\n",
       "            background-color:  #3b4cc0;\n",
       "            color:  #f1f1f1;\n",
       "        }    #T_5a8db82e_26b5_11ea_94b3_0e20b7b750c6row6_col8 {\n",
       "            background-color:  #4e68d8;\n",
       "            color:  #000000;\n",
       "        }    #T_5a8db82e_26b5_11ea_94b3_0e20b7b750c6row6_col9 {\n",
       "            background-color:  #3b4cc0;\n",
       "            color:  #f1f1f1;\n",
       "        }    #T_5a8db82e_26b5_11ea_94b3_0e20b7b750c6row6_col10 {\n",
       "            background-color:  #4055c8;\n",
       "            color:  #f1f1f1;\n",
       "        }    #T_5a8db82e_26b5_11ea_94b3_0e20b7b750c6row6_col11 {\n",
       "            background-color:  #445acc;\n",
       "            color:  #f1f1f1;\n",
       "        }    #T_5a8db82e_26b5_11ea_94b3_0e20b7b750c6row7_col0 {\n",
       "            background-color:  #b40426;\n",
       "            color:  #f1f1f1;\n",
       "        }    #T_5a8db82e_26b5_11ea_94b3_0e20b7b750c6row7_col1 {\n",
       "            background-color:  #3b4cc0;\n",
       "            color:  #f1f1f1;\n",
       "        }    #T_5a8db82e_26b5_11ea_94b3_0e20b7b750c6row7_col2 {\n",
       "            background-color:  #4055c8;\n",
       "            color:  #f1f1f1;\n",
       "        }    #T_5a8db82e_26b5_11ea_94b3_0e20b7b750c6row7_col3 {\n",
       "            background-color:  #4961d2;\n",
       "            color:  #f1f1f1;\n",
       "        }    #T_5a8db82e_26b5_11ea_94b3_0e20b7b750c6row7_col4 {\n",
       "            background-color:  #4358cb;\n",
       "            color:  #f1f1f1;\n",
       "        }    #T_5a8db82e_26b5_11ea_94b3_0e20b7b750c6row7_col5 {\n",
       "            background-color:  #3b4cc0;\n",
       "            color:  #f1f1f1;\n",
       "        }    #T_5a8db82e_26b5_11ea_94b3_0e20b7b750c6row7_col6 {\n",
       "            background-color:  #3b4cc0;\n",
       "            color:  #f1f1f1;\n",
       "        }    #T_5a8db82e_26b5_11ea_94b3_0e20b7b750c6row7_col7 {\n",
       "            background-color:  #b40426;\n",
       "            color:  #f1f1f1;\n",
       "        }    #T_5a8db82e_26b5_11ea_94b3_0e20b7b750c6row7_col8 {\n",
       "            background-color:  #4055c8;\n",
       "            color:  #f1f1f1;\n",
       "        }    #T_5a8db82e_26b5_11ea_94b3_0e20b7b750c6row7_col9 {\n",
       "            background-color:  #3c4ec2;\n",
       "            color:  #f1f1f1;\n",
       "        }    #T_5a8db82e_26b5_11ea_94b3_0e20b7b750c6row7_col10 {\n",
       "            background-color:  #3c4ec2;\n",
       "            color:  #f1f1f1;\n",
       "        }    #T_5a8db82e_26b5_11ea_94b3_0e20b7b750c6row7_col11 {\n",
       "            background-color:  #3d50c3;\n",
       "            color:  #f1f1f1;\n",
       "        }    #T_5a8db82e_26b5_11ea_94b3_0e20b7b750c6row8_col0 {\n",
       "            background-color:  #455cce;\n",
       "            color:  #f1f1f1;\n",
       "        }    #T_5a8db82e_26b5_11ea_94b3_0e20b7b750c6row8_col1 {\n",
       "            background-color:  #455cce;\n",
       "            color:  #f1f1f1;\n",
       "        }    #T_5a8db82e_26b5_11ea_94b3_0e20b7b750c6row8_col2 {\n",
       "            background-color:  #b50927;\n",
       "            color:  #f1f1f1;\n",
       "        }    #T_5a8db82e_26b5_11ea_94b3_0e20b7b750c6row8_col3 {\n",
       "            background-color:  #3e51c5;\n",
       "            color:  #f1f1f1;\n",
       "        }    #T_5a8db82e_26b5_11ea_94b3_0e20b7b750c6row8_col4 {\n",
       "            background-color:  #4257c9;\n",
       "            color:  #f1f1f1;\n",
       "        }    #T_5a8db82e_26b5_11ea_94b3_0e20b7b750c6row8_col5 {\n",
       "            background-color:  #4f69d9;\n",
       "            color:  #000000;\n",
       "        }    #T_5a8db82e_26b5_11ea_94b3_0e20b7b750c6row8_col6 {\n",
       "            background-color:  #536edd;\n",
       "            color:  #000000;\n",
       "        }    #T_5a8db82e_26b5_11ea_94b3_0e20b7b750c6row8_col7 {\n",
       "            background-color:  #455cce;\n",
       "            color:  #f1f1f1;\n",
       "        }    #T_5a8db82e_26b5_11ea_94b3_0e20b7b750c6row8_col8 {\n",
       "            background-color:  #b40426;\n",
       "            color:  #f1f1f1;\n",
       "        }    #T_5a8db82e_26b5_11ea_94b3_0e20b7b750c6row8_col9 {\n",
       "            background-color:  #3b4cc0;\n",
       "            color:  #f1f1f1;\n",
       "        }    #T_5a8db82e_26b5_11ea_94b3_0e20b7b750c6row8_col10 {\n",
       "            background-color:  #3c4ec2;\n",
       "            color:  #f1f1f1;\n",
       "        }    #T_5a8db82e_26b5_11ea_94b3_0e20b7b750c6row8_col11 {\n",
       "            background-color:  #3f53c6;\n",
       "            color:  #f1f1f1;\n",
       "        }    #T_5a8db82e_26b5_11ea_94b3_0e20b7b750c6row9_col0 {\n",
       "            background-color:  #4b64d5;\n",
       "            color:  #f1f1f1;\n",
       "        }    #T_5a8db82e_26b5_11ea_94b3_0e20b7b750c6row9_col1 {\n",
       "            background-color:  #4358cb;\n",
       "            color:  #f1f1f1;\n",
       "        }    #T_5a8db82e_26b5_11ea_94b3_0e20b7b750c6row9_col2 {\n",
       "            background-color:  #455cce;\n",
       "            color:  #f1f1f1;\n",
       "        }    #T_5a8db82e_26b5_11ea_94b3_0e20b7b750c6row9_col3 {\n",
       "            background-color:  #4a63d3;\n",
       "            color:  #f1f1f1;\n",
       "        }    #T_5a8db82e_26b5_11ea_94b3_0e20b7b750c6row9_col4 {\n",
       "            background-color:  #4f69d9;\n",
       "            color:  #000000;\n",
       "        }    #T_5a8db82e_26b5_11ea_94b3_0e20b7b750c6row9_col5 {\n",
       "            background-color:  #4961d2;\n",
       "            color:  #f1f1f1;\n",
       "        }    #T_5a8db82e_26b5_11ea_94b3_0e20b7b750c6row9_col6 {\n",
       "            background-color:  #4a63d3;\n",
       "            color:  #f1f1f1;\n",
       "        }    #T_5a8db82e_26b5_11ea_94b3_0e20b7b750c6row9_col7 {\n",
       "            background-color:  #4b64d5;\n",
       "            color:  #f1f1f1;\n",
       "        }    #T_5a8db82e_26b5_11ea_94b3_0e20b7b750c6row9_col8 {\n",
       "            background-color:  #455cce;\n",
       "            color:  #f1f1f1;\n",
       "        }    #T_5a8db82e_26b5_11ea_94b3_0e20b7b750c6row9_col9 {\n",
       "            background-color:  #b40426;\n",
       "            color:  #f1f1f1;\n",
       "        }    #T_5a8db82e_26b5_11ea_94b3_0e20b7b750c6row9_col10 {\n",
       "            background-color:  #3e51c5;\n",
       "            color:  #f1f1f1;\n",
       "        }    #T_5a8db82e_26b5_11ea_94b3_0e20b7b750c6row9_col11 {\n",
       "            background-color:  #3e51c5;\n",
       "            color:  #f1f1f1;\n",
       "        }    #T_5a8db82e_26b5_11ea_94b3_0e20b7b750c6row10_col0 {\n",
       "            background-color:  #4961d2;\n",
       "            color:  #f1f1f1;\n",
       "        }    #T_5a8db82e_26b5_11ea_94b3_0e20b7b750c6row10_col1 {\n",
       "            background-color:  #4358cb;\n",
       "            color:  #f1f1f1;\n",
       "        }    #T_5a8db82e_26b5_11ea_94b3_0e20b7b750c6row10_col2 {\n",
       "            background-color:  #4358cb;\n",
       "            color:  #f1f1f1;\n",
       "        }    #T_5a8db82e_26b5_11ea_94b3_0e20b7b750c6row10_col3 {\n",
       "            background-color:  #485fd1;\n",
       "            color:  #f1f1f1;\n",
       "        }    #T_5a8db82e_26b5_11ea_94b3_0e20b7b750c6row10_col4 {\n",
       "            background-color:  #3e51c5;\n",
       "            color:  #f1f1f1;\n",
       "        }    #T_5a8db82e_26b5_11ea_94b3_0e20b7b750c6row10_col5 {\n",
       "            background-color:  #4b64d5;\n",
       "            color:  #f1f1f1;\n",
       "        }    #T_5a8db82e_26b5_11ea_94b3_0e20b7b750c6row10_col6 {\n",
       "            background-color:  #4c66d6;\n",
       "            color:  #000000;\n",
       "        }    #T_5a8db82e_26b5_11ea_94b3_0e20b7b750c6row10_col7 {\n",
       "            background-color:  #4961d2;\n",
       "            color:  #f1f1f1;\n",
       "        }    #T_5a8db82e_26b5_11ea_94b3_0e20b7b750c6row10_col8 {\n",
       "            background-color:  #4358cb;\n",
       "            color:  #f1f1f1;\n",
       "        }    #T_5a8db82e_26b5_11ea_94b3_0e20b7b750c6row10_col9 {\n",
       "            background-color:  #3b4cc0;\n",
       "            color:  #f1f1f1;\n",
       "        }    #T_5a8db82e_26b5_11ea_94b3_0e20b7b750c6row10_col10 {\n",
       "            background-color:  #b40426;\n",
       "            color:  #f1f1f1;\n",
       "        }    #T_5a8db82e_26b5_11ea_94b3_0e20b7b750c6row10_col11 {\n",
       "            background-color:  #5977e3;\n",
       "            color:  #000000;\n",
       "        }    #T_5a8db82e_26b5_11ea_94b3_0e20b7b750c6row11_col0 {\n",
       "            background-color:  #4a63d3;\n",
       "            color:  #f1f1f1;\n",
       "        }    #T_5a8db82e_26b5_11ea_94b3_0e20b7b750c6row11_col1 {\n",
       "            background-color:  #3f53c6;\n",
       "            color:  #f1f1f1;\n",
       "        }    #T_5a8db82e_26b5_11ea_94b3_0e20b7b750c6row11_col2 {\n",
       "            background-color:  #465ecf;\n",
       "            color:  #f1f1f1;\n",
       "        }    #T_5a8db82e_26b5_11ea_94b3_0e20b7b750c6row11_col3 {\n",
       "            background-color:  #485fd1;\n",
       "            color:  #f1f1f1;\n",
       "        }    #T_5a8db82e_26b5_11ea_94b3_0e20b7b750c6row11_col4 {\n",
       "            background-color:  #506bda;\n",
       "            color:  #000000;\n",
       "        }    #T_5a8db82e_26b5_11ea_94b3_0e20b7b750c6row11_col5 {\n",
       "            background-color:  #4a63d3;\n",
       "            color:  #f1f1f1;\n",
       "        }    #T_5a8db82e_26b5_11ea_94b3_0e20b7b750c6row11_col6 {\n",
       "            background-color:  #516ddb;\n",
       "            color:  #000000;\n",
       "        }    #T_5a8db82e_26b5_11ea_94b3_0e20b7b750c6row11_col7 {\n",
       "            background-color:  #4a63d3;\n",
       "            color:  #f1f1f1;\n",
       "        }    #T_5a8db82e_26b5_11ea_94b3_0e20b7b750c6row11_col8 {\n",
       "            background-color:  #465ecf;\n",
       "            color:  #f1f1f1;\n",
       "        }    #T_5a8db82e_26b5_11ea_94b3_0e20b7b750c6row11_col9 {\n",
       "            background-color:  #3b4cc0;\n",
       "            color:  #f1f1f1;\n",
       "        }    #T_5a8db82e_26b5_11ea_94b3_0e20b7b750c6row11_col10 {\n",
       "            background-color:  #5a78e4;\n",
       "            color:  #000000;\n",
       "        }    #T_5a8db82e_26b5_11ea_94b3_0e20b7b750c6row11_col11 {\n",
       "            background-color:  #b40426;\n",
       "            color:  #f1f1f1;\n",
       "        }</style><table id=\"T_5a8db82e_26b5_11ea_94b3_0e20b7b750c6\" ><thead>    <tr>        <th class=\"blank level0\" ></th>        <th class=\"col_heading level0 col0\" >accountNumber</th>        <th class=\"col_heading level0 col1\" >availableMoney</th>        <th class=\"col_heading level0 col2\" >cardCVV</th>        <th class=\"col_heading level0 col3\" >cardLast4Digits</th>        <th class=\"col_heading level0 col4\" >cardPresent</th>        <th class=\"col_heading level0 col5\" >creditLimit</th>        <th class=\"col_heading level0 col6\" >currentBalance</th>        <th class=\"col_heading level0 col7\" >customerId</th>        <th class=\"col_heading level0 col8\" >enteredCVV</th>        <th class=\"col_heading level0 col9\" >expirationDateKeyInMatch</th>        <th class=\"col_heading level0 col10\" >isFraud</th>        <th class=\"col_heading level0 col11\" >transactionAmount</th>    </tr></thead><tbody>\n",
       "                <tr>\n",
       "                        <th id=\"T_5a8db82e_26b5_11ea_94b3_0e20b7b750c6level0_row0\" class=\"row_heading level0 row0\" >accountNumber</th>\n",
       "                        <td id=\"T_5a8db82e_26b5_11ea_94b3_0e20b7b750c6row0_col0\" class=\"data row0 col0\" >1</td>\n",
       "                        <td id=\"T_5a8db82e_26b5_11ea_94b3_0e20b7b750c6row0_col1\" class=\"data row0 col1\" >-0.0310115</td>\n",
       "                        <td id=\"T_5a8db82e_26b5_11ea_94b3_0e20b7b750c6row0_col2\" class=\"data row0 col2\" >-0.0189749</td>\n",
       "                        <td id=\"T_5a8db82e_26b5_11ea_94b3_0e20b7b750c6row0_col3\" class=\"data row0 col3\" >-0.000439441</td>\n",
       "                        <td id=\"T_5a8db82e_26b5_11ea_94b3_0e20b7b750c6row0_col4\" class=\"data row0 col4\" >0.00248715</td>\n",
       "                        <td id=\"T_5a8db82e_26b5_11ea_94b3_0e20b7b750c6row0_col5\" class=\"data row0 col5\" >-0.05451</td>\n",
       "                        <td id=\"T_5a8db82e_26b5_11ea_94b3_0e20b7b750c6row0_col6\" class=\"data row0 col6\" >-0.0569433</td>\n",
       "                        <td id=\"T_5a8db82e_26b5_11ea_94b3_0e20b7b750c6row0_col7\" class=\"data row0 col7\" >1</td>\n",
       "                        <td id=\"T_5a8db82e_26b5_11ea_94b3_0e20b7b750c6row0_col8\" class=\"data row0 col8\" >-0.0185182</td>\n",
       "                        <td id=\"T_5a8db82e_26b5_11ea_94b3_0e20b7b750c6row0_col9\" class=\"data row0 col9\" >0.00103666</td>\n",
       "                        <td id=\"T_5a8db82e_26b5_11ea_94b3_0e20b7b750c6row0_col10\" class=\"data row0 col10\" >-0.00715734</td>\n",
       "                        <td id=\"T_5a8db82e_26b5_11ea_94b3_0e20b7b750c6row0_col11\" class=\"data row0 col11\" >9.26539e-05</td>\n",
       "            </tr>\n",
       "            <tr>\n",
       "                        <th id=\"T_5a8db82e_26b5_11ea_94b3_0e20b7b750c6level0_row1\" class=\"row_heading level0 row1\" >availableMoney</th>\n",
       "                        <td id=\"T_5a8db82e_26b5_11ea_94b3_0e20b7b750c6row1_col0\" class=\"data row1 col0\" >-0.0310115</td>\n",
       "                        <td id=\"T_5a8db82e_26b5_11ea_94b3_0e20b7b750c6row1_col1\" class=\"data row1 col1\" >1</td>\n",
       "                        <td id=\"T_5a8db82e_26b5_11ea_94b3_0e20b7b750c6row1_col2\" class=\"data row1 col2\" >0.00630818</td>\n",
       "                        <td id=\"T_5a8db82e_26b5_11ea_94b3_0e20b7b750c6row1_col3\" class=\"data row1 col3\" >-0.0212659</td>\n",
       "                        <td id=\"T_5a8db82e_26b5_11ea_94b3_0e20b7b750c6row1_col4\" class=\"data row1 col4\" >-0.0178257</td>\n",
       "                        <td id=\"T_5a8db82e_26b5_11ea_94b3_0e20b7b750c6row1_col5\" class=\"data row1 col5\" >0.85644</td>\n",
       "                        <td id=\"T_5a8db82e_26b5_11ea_94b3_0e20b7b750c6row1_col6\" class=\"data row1 col6\" >0.0988951</td>\n",
       "                        <td id=\"T_5a8db82e_26b5_11ea_94b3_0e20b7b750c6row1_col7\" class=\"data row1 col7\" >-0.0310115</td>\n",
       "                        <td id=\"T_5a8db82e_26b5_11ea_94b3_0e20b7b750c6row1_col8\" class=\"data row1 col8\" >0.00644685</td>\n",
       "                        <td id=\"T_5a8db82e_26b5_11ea_94b3_0e20b7b750c6row1_col9\" class=\"data row1 col9\" >-0.00195607</td>\n",
       "                        <td id=\"T_5a8db82e_26b5_11ea_94b3_0e20b7b750c6row1_col10\" class=\"data row1 col10\" >-0.00137897</td>\n",
       "                        <td id=\"T_5a8db82e_26b5_11ea_94b3_0e20b7b750c6row1_col11\" class=\"data row1 col11\" >-0.0117232</td>\n",
       "            </tr>\n",
       "            <tr>\n",
       "                        <th id=\"T_5a8db82e_26b5_11ea_94b3_0e20b7b750c6level0_row2\" class=\"row_heading level0 row2\" >cardCVV</th>\n",
       "                        <td id=\"T_5a8db82e_26b5_11ea_94b3_0e20b7b750c6row2_col0\" class=\"data row2 col0\" >-0.0189749</td>\n",
       "                        <td id=\"T_5a8db82e_26b5_11ea_94b3_0e20b7b750c6row2_col1\" class=\"data row2 col1\" >0.00630818</td>\n",
       "                        <td id=\"T_5a8db82e_26b5_11ea_94b3_0e20b7b750c6row2_col2\" class=\"data row2 col2\" >1</td>\n",
       "                        <td id=\"T_5a8db82e_26b5_11ea_94b3_0e20b7b750c6row2_col3\" class=\"data row2 col3\" >-0.0398491</td>\n",
       "                        <td id=\"T_5a8db82e_26b5_11ea_94b3_0e20b7b750c6row2_col4\" class=\"data row2 col4\" >-0.00465694</td>\n",
       "                        <td id=\"T_5a8db82e_26b5_11ea_94b3_0e20b7b750c6row2_col5\" class=\"data row2 col5\" >0.0191692</td>\n",
       "                        <td id=\"T_5a8db82e_26b5_11ea_94b3_0e20b7b750c6row2_col6\" class=\"data row2 col6\" >0.0271598</td>\n",
       "                        <td id=\"T_5a8db82e_26b5_11ea_94b3_0e20b7b750c6row2_col7\" class=\"data row2 col7\" >-0.0189749</td>\n",
       "                        <td id=\"T_5a8db82e_26b5_11ea_94b3_0e20b7b750c6row2_col8\" class=\"data row2 col8\" >0.995397</td>\n",
       "                        <td id=\"T_5a8db82e_26b5_11ea_94b3_0e20b7b750c6row2_col9\" class=\"data row2 col9\" >-0.00222921</td>\n",
       "                        <td id=\"T_5a8db82e_26b5_11ea_94b3_0e20b7b750c6row2_col10\" class=\"data row2 col10\" >-0.00740156</td>\n",
       "                        <td id=\"T_5a8db82e_26b5_11ea_94b3_0e20b7b750c6row2_col11\" class=\"data row2 col11\" >0.00406471</td>\n",
       "            </tr>\n",
       "            <tr>\n",
       "                        <th id=\"T_5a8db82e_26b5_11ea_94b3_0e20b7b750c6level0_row3\" class=\"row_heading level0 row3\" >cardLast4Digits</th>\n",
       "                        <td id=\"T_5a8db82e_26b5_11ea_94b3_0e20b7b750c6row3_col0\" class=\"data row3 col0\" >-0.000439441</td>\n",
       "                        <td id=\"T_5a8db82e_26b5_11ea_94b3_0e20b7b750c6row3_col1\" class=\"data row3 col1\" >-0.0212659</td>\n",
       "                        <td id=\"T_5a8db82e_26b5_11ea_94b3_0e20b7b750c6row3_col2\" class=\"data row3 col2\" >-0.0398491</td>\n",
       "                        <td id=\"T_5a8db82e_26b5_11ea_94b3_0e20b7b750c6row3_col3\" class=\"data row3 col3\" >1</td>\n",
       "                        <td id=\"T_5a8db82e_26b5_11ea_94b3_0e20b7b750c6row3_col4\" class=\"data row3 col4\" >0.00281744</td>\n",
       "                        <td id=\"T_5a8db82e_26b5_11ea_94b3_0e20b7b750c6row3_col5\" class=\"data row3 col5\" >-0.0448163</td>\n",
       "                        <td id=\"T_5a8db82e_26b5_11ea_94b3_0e20b7b750c6row3_col6\" class=\"data row3 col6\" >-0.0533827</td>\n",
       "                        <td id=\"T_5a8db82e_26b5_11ea_94b3_0e20b7b750c6row3_col7\" class=\"data row3 col7\" >-0.000439441</td>\n",
       "                        <td id=\"T_5a8db82e_26b5_11ea_94b3_0e20b7b750c6row3_col8\" class=\"data row3 col8\" >-0.039613</td>\n",
       "                        <td id=\"T_5a8db82e_26b5_11ea_94b3_0e20b7b750c6row3_col9\" class=\"data row3 col9\" >0.00189049</td>\n",
       "                        <td id=\"T_5a8db82e_26b5_11ea_94b3_0e20b7b750c6row3_col10\" class=\"data row3 col10\" >-0.00700965</td>\n",
       "                        <td id=\"T_5a8db82e_26b5_11ea_94b3_0e20b7b750c6row3_col11\" class=\"data row3 col11\" >-0.00437341</td>\n",
       "            </tr>\n",
       "            <tr>\n",
       "                        <th id=\"T_5a8db82e_26b5_11ea_94b3_0e20b7b750c6level0_row4\" class=\"row_heading level0 row4\" >cardPresent</th>\n",
       "                        <td id=\"T_5a8db82e_26b5_11ea_94b3_0e20b7b750c6row4_col0\" class=\"data row4 col0\" >0.00248715</td>\n",
       "                        <td id=\"T_5a8db82e_26b5_11ea_94b3_0e20b7b750c6row4_col1\" class=\"data row4 col1\" >-0.0178257</td>\n",
       "                        <td id=\"T_5a8db82e_26b5_11ea_94b3_0e20b7b750c6row4_col2\" class=\"data row4 col2\" >-0.00465694</td>\n",
       "                        <td id=\"T_5a8db82e_26b5_11ea_94b3_0e20b7b750c6row4_col3\" class=\"data row4 col3\" >0.00281744</td>\n",
       "                        <td id=\"T_5a8db82e_26b5_11ea_94b3_0e20b7b750c6row4_col4\" class=\"data row4 col4\" >1</td>\n",
       "                        <td id=\"T_5a8db82e_26b5_11ea_94b3_0e20b7b750c6row4_col5\" class=\"data row4 col5\" >-0.0294238</td>\n",
       "                        <td id=\"T_5a8db82e_26b5_11ea_94b3_0e20b7b750c6row4_col6\" class=\"data row4 col6\" >-0.0290517</td>\n",
       "                        <td id=\"T_5a8db82e_26b5_11ea_94b3_0e20b7b750c6row4_col7\" class=\"data row4 col7\" >0.00248715</td>\n",
       "                        <td id=\"T_5a8db82e_26b5_11ea_94b3_0e20b7b750c6row4_col8\" class=\"data row4 col8\" >-0.00444088</td>\n",
       "                        <td id=\"T_5a8db82e_26b5_11ea_94b3_0e20b7b750c6row4_col9\" class=\"data row4 col9\" >0.0413204</td>\n",
       "                        <td id=\"T_5a8db82e_26b5_11ea_94b3_0e20b7b750c6row4_col10\" class=\"data row4 col10\" >-0.0149463</td>\n",
       "                        <td id=\"T_5a8db82e_26b5_11ea_94b3_0e20b7b750c6row4_col11\" class=\"data row4 col11\" >0.0432889</td>\n",
       "            </tr>\n",
       "            <tr>\n",
       "                        <th id=\"T_5a8db82e_26b5_11ea_94b3_0e20b7b750c6level0_row5\" class=\"row_heading level0 row5\" >creditLimit</th>\n",
       "                        <td id=\"T_5a8db82e_26b5_11ea_94b3_0e20b7b750c6row5_col0\" class=\"data row5 col0\" >-0.05451</td>\n",
       "                        <td id=\"T_5a8db82e_26b5_11ea_94b3_0e20b7b750c6row5_col1\" class=\"data row5 col1\" >0.85644</td>\n",
       "                        <td id=\"T_5a8db82e_26b5_11ea_94b3_0e20b7b750c6row5_col2\" class=\"data row5 col2\" >0.0191692</td>\n",
       "                        <td id=\"T_5a8db82e_26b5_11ea_94b3_0e20b7b750c6row5_col3\" class=\"data row5 col3\" >-0.0448163</td>\n",
       "                        <td id=\"T_5a8db82e_26b5_11ea_94b3_0e20b7b750c6row5_col4\" class=\"data row5 col4\" >-0.0294238</td>\n",
       "                        <td id=\"T_5a8db82e_26b5_11ea_94b3_0e20b7b750c6row5_col5\" class=\"data row5 col5\" >1</td>\n",
       "                        <td id=\"T_5a8db82e_26b5_11ea_94b3_0e20b7b750c6row5_col6\" class=\"data row5 col6\" >0.598413</td>\n",
       "                        <td id=\"T_5a8db82e_26b5_11ea_94b3_0e20b7b750c6row5_col7\" class=\"data row5 col7\" >-0.05451</td>\n",
       "                        <td id=\"T_5a8db82e_26b5_11ea_94b3_0e20b7b750c6row5_col8\" class=\"data row5 col8\" >0.019299</td>\n",
       "                        <td id=\"T_5a8db82e_26b5_11ea_94b3_0e20b7b750c6row5_col9\" class=\"data row5 col9\" >-0.00290292</td>\n",
       "                        <td id=\"T_5a8db82e_26b5_11ea_94b3_0e20b7b750c6row5_col10\" class=\"data row5 col10\" >0.00335693</td>\n",
       "                        <td id=\"T_5a8db82e_26b5_11ea_94b3_0e20b7b750c6row5_col11\" class=\"data row5 col11\" >0.00240017</td>\n",
       "            </tr>\n",
       "            <tr>\n",
       "                        <th id=\"T_5a8db82e_26b5_11ea_94b3_0e20b7b750c6level0_row6\" class=\"row_heading level0 row6\" >currentBalance</th>\n",
       "                        <td id=\"T_5a8db82e_26b5_11ea_94b3_0e20b7b750c6row6_col0\" class=\"data row6 col0\" >-0.0569433</td>\n",
       "                        <td id=\"T_5a8db82e_26b5_11ea_94b3_0e20b7b750c6row6_col1\" class=\"data row6 col1\" >0.0988951</td>\n",
       "                        <td id=\"T_5a8db82e_26b5_11ea_94b3_0e20b7b750c6row6_col2\" class=\"data row6 col2\" >0.0271598</td>\n",
       "                        <td id=\"T_5a8db82e_26b5_11ea_94b3_0e20b7b750c6row6_col3\" class=\"data row6 col3\" >-0.0533827</td>\n",
       "                        <td id=\"T_5a8db82e_26b5_11ea_94b3_0e20b7b750c6row6_col4\" class=\"data row6 col4\" >-0.0290517</td>\n",
       "                        <td id=\"T_5a8db82e_26b5_11ea_94b3_0e20b7b750c6row6_col5\" class=\"data row6 col5\" >0.598413</td>\n",
       "                        <td id=\"T_5a8db82e_26b5_11ea_94b3_0e20b7b750c6row6_col6\" class=\"data row6 col6\" >1</td>\n",
       "                        <td id=\"T_5a8db82e_26b5_11ea_94b3_0e20b7b750c6row6_col7\" class=\"data row6 col7\" >-0.0569433</td>\n",
       "                        <td id=\"T_5a8db82e_26b5_11ea_94b3_0e20b7b750c6row6_col8\" class=\"data row6 col8\" >0.0271949</td>\n",
       "                        <td id=\"T_5a8db82e_26b5_11ea_94b3_0e20b7b750c6row6_col9\" class=\"data row6 col9\" >-0.00255985</td>\n",
       "                        <td id=\"T_5a8db82e_26b5_11ea_94b3_0e20b7b750c6row6_col10\" class=\"data row6 col10\" >0.00861081</td>\n",
       "                        <td id=\"T_5a8db82e_26b5_11ea_94b3_0e20b7b750c6row6_col11\" class=\"data row6 col11\" >0.0228202</td>\n",
       "            </tr>\n",
       "            <tr>\n",
       "                        <th id=\"T_5a8db82e_26b5_11ea_94b3_0e20b7b750c6level0_row7\" class=\"row_heading level0 row7\" >customerId</th>\n",
       "                        <td id=\"T_5a8db82e_26b5_11ea_94b3_0e20b7b750c6row7_col0\" class=\"data row7 col0\" >1</td>\n",
       "                        <td id=\"T_5a8db82e_26b5_11ea_94b3_0e20b7b750c6row7_col1\" class=\"data row7 col1\" >-0.0310115</td>\n",
       "                        <td id=\"T_5a8db82e_26b5_11ea_94b3_0e20b7b750c6row7_col2\" class=\"data row7 col2\" >-0.0189749</td>\n",
       "                        <td id=\"T_5a8db82e_26b5_11ea_94b3_0e20b7b750c6row7_col3\" class=\"data row7 col3\" >-0.000439441</td>\n",
       "                        <td id=\"T_5a8db82e_26b5_11ea_94b3_0e20b7b750c6row7_col4\" class=\"data row7 col4\" >0.00248715</td>\n",
       "                        <td id=\"T_5a8db82e_26b5_11ea_94b3_0e20b7b750c6row7_col5\" class=\"data row7 col5\" >-0.05451</td>\n",
       "                        <td id=\"T_5a8db82e_26b5_11ea_94b3_0e20b7b750c6row7_col6\" class=\"data row7 col6\" >-0.0569433</td>\n",
       "                        <td id=\"T_5a8db82e_26b5_11ea_94b3_0e20b7b750c6row7_col7\" class=\"data row7 col7\" >1</td>\n",
       "                        <td id=\"T_5a8db82e_26b5_11ea_94b3_0e20b7b750c6row7_col8\" class=\"data row7 col8\" >-0.0185182</td>\n",
       "                        <td id=\"T_5a8db82e_26b5_11ea_94b3_0e20b7b750c6row7_col9\" class=\"data row7 col9\" >0.00103666</td>\n",
       "                        <td id=\"T_5a8db82e_26b5_11ea_94b3_0e20b7b750c6row7_col10\" class=\"data row7 col10\" >-0.00715734</td>\n",
       "                        <td id=\"T_5a8db82e_26b5_11ea_94b3_0e20b7b750c6row7_col11\" class=\"data row7 col11\" >9.26539e-05</td>\n",
       "            </tr>\n",
       "            <tr>\n",
       "                        <th id=\"T_5a8db82e_26b5_11ea_94b3_0e20b7b750c6level0_row8\" class=\"row_heading level0 row8\" >enteredCVV</th>\n",
       "                        <td id=\"T_5a8db82e_26b5_11ea_94b3_0e20b7b750c6row8_col0\" class=\"data row8 col0\" >-0.0185182</td>\n",
       "                        <td id=\"T_5a8db82e_26b5_11ea_94b3_0e20b7b750c6row8_col1\" class=\"data row8 col1\" >0.00644685</td>\n",
       "                        <td id=\"T_5a8db82e_26b5_11ea_94b3_0e20b7b750c6row8_col2\" class=\"data row8 col2\" >0.995397</td>\n",
       "                        <td id=\"T_5a8db82e_26b5_11ea_94b3_0e20b7b750c6row8_col3\" class=\"data row8 col3\" >-0.039613</td>\n",
       "                        <td id=\"T_5a8db82e_26b5_11ea_94b3_0e20b7b750c6row8_col4\" class=\"data row8 col4\" >-0.00444088</td>\n",
       "                        <td id=\"T_5a8db82e_26b5_11ea_94b3_0e20b7b750c6row8_col5\" class=\"data row8 col5\" >0.019299</td>\n",
       "                        <td id=\"T_5a8db82e_26b5_11ea_94b3_0e20b7b750c6row8_col6\" class=\"data row8 col6\" >0.0271949</td>\n",
       "                        <td id=\"T_5a8db82e_26b5_11ea_94b3_0e20b7b750c6row8_col7\" class=\"data row8 col7\" >-0.0185182</td>\n",
       "                        <td id=\"T_5a8db82e_26b5_11ea_94b3_0e20b7b750c6row8_col8\" class=\"data row8 col8\" >1</td>\n",
       "                        <td id=\"T_5a8db82e_26b5_11ea_94b3_0e20b7b750c6row8_col9\" class=\"data row8 col9\" >-0.00278092</td>\n",
       "                        <td id=\"T_5a8db82e_26b5_11ea_94b3_0e20b7b750c6row8_col10\" class=\"data row8 col10\" >-0.00734747</td>\n",
       "                        <td id=\"T_5a8db82e_26b5_11ea_94b3_0e20b7b750c6row8_col11\" class=\"data row8 col11\" >0.00433453</td>\n",
       "            </tr>\n",
       "            <tr>\n",
       "                        <th id=\"T_5a8db82e_26b5_11ea_94b3_0e20b7b750c6level0_row9\" class=\"row_heading level0 row9\" >expirationDateKeyInMatch</th>\n",
       "                        <td id=\"T_5a8db82e_26b5_11ea_94b3_0e20b7b750c6row9_col0\" class=\"data row9 col0\" >0.00103666</td>\n",
       "                        <td id=\"T_5a8db82e_26b5_11ea_94b3_0e20b7b750c6row9_col1\" class=\"data row9 col1\" >-0.00195607</td>\n",
       "                        <td id=\"T_5a8db82e_26b5_11ea_94b3_0e20b7b750c6row9_col2\" class=\"data row9 col2\" >-0.00222921</td>\n",
       "                        <td id=\"T_5a8db82e_26b5_11ea_94b3_0e20b7b750c6row9_col3\" class=\"data row9 col3\" >0.00189049</td>\n",
       "                        <td id=\"T_5a8db82e_26b5_11ea_94b3_0e20b7b750c6row9_col4\" class=\"data row9 col4\" >0.0413204</td>\n",
       "                        <td id=\"T_5a8db82e_26b5_11ea_94b3_0e20b7b750c6row9_col5\" class=\"data row9 col5\" >-0.00290292</td>\n",
       "                        <td id=\"T_5a8db82e_26b5_11ea_94b3_0e20b7b750c6row9_col6\" class=\"data row9 col6\" >-0.00255985</td>\n",
       "                        <td id=\"T_5a8db82e_26b5_11ea_94b3_0e20b7b750c6row9_col7\" class=\"data row9 col7\" >0.00103666</td>\n",
       "                        <td id=\"T_5a8db82e_26b5_11ea_94b3_0e20b7b750c6row9_col8\" class=\"data row9 col8\" >-0.00278092</td>\n",
       "                        <td id=\"T_5a8db82e_26b5_11ea_94b3_0e20b7b750c6row9_col9\" class=\"data row9 col9\" >1</td>\n",
       "                        <td id=\"T_5a8db82e_26b5_11ea_94b3_0e20b7b750c6row9_col10\" class=\"data row9 col10\" >-0.00123899</td>\n",
       "                        <td id=\"T_5a8db82e_26b5_11ea_94b3_0e20b7b750c6row9_col11\" class=\"data row9 col11\" >0.000347465</td>\n",
       "            </tr>\n",
       "            <tr>\n",
       "                        <th id=\"T_5a8db82e_26b5_11ea_94b3_0e20b7b750c6level0_row10\" class=\"row_heading level0 row10\" >isFraud</th>\n",
       "                        <td id=\"T_5a8db82e_26b5_11ea_94b3_0e20b7b750c6row10_col0\" class=\"data row10 col0\" >-0.00715734</td>\n",
       "                        <td id=\"T_5a8db82e_26b5_11ea_94b3_0e20b7b750c6row10_col1\" class=\"data row10 col1\" >-0.00137897</td>\n",
       "                        <td id=\"T_5a8db82e_26b5_11ea_94b3_0e20b7b750c6row10_col2\" class=\"data row10 col2\" >-0.00740156</td>\n",
       "                        <td id=\"T_5a8db82e_26b5_11ea_94b3_0e20b7b750c6row10_col3\" class=\"data row10 col3\" >-0.00700965</td>\n",
       "                        <td id=\"T_5a8db82e_26b5_11ea_94b3_0e20b7b750c6row10_col4\" class=\"data row10 col4\" >-0.0149463</td>\n",
       "                        <td id=\"T_5a8db82e_26b5_11ea_94b3_0e20b7b750c6row10_col5\" class=\"data row10 col5\" >0.00335693</td>\n",
       "                        <td id=\"T_5a8db82e_26b5_11ea_94b3_0e20b7b750c6row10_col6\" class=\"data row10 col6\" >0.00861081</td>\n",
       "                        <td id=\"T_5a8db82e_26b5_11ea_94b3_0e20b7b750c6row10_col7\" class=\"data row10 col7\" >-0.00715734</td>\n",
       "                        <td id=\"T_5a8db82e_26b5_11ea_94b3_0e20b7b750c6row10_col8\" class=\"data row10 col8\" >-0.00734747</td>\n",
       "                        <td id=\"T_5a8db82e_26b5_11ea_94b3_0e20b7b750c6row10_col9\" class=\"data row10 col9\" >-0.00123899</td>\n",
       "                        <td id=\"T_5a8db82e_26b5_11ea_94b3_0e20b7b750c6row10_col10\" class=\"data row10 col10\" >1</td>\n",
       "                        <td id=\"T_5a8db82e_26b5_11ea_94b3_0e20b7b750c6row10_col11\" class=\"data row10 col11\" >0.0887084</td>\n",
       "            </tr>\n",
       "            <tr>\n",
       "                        <th id=\"T_5a8db82e_26b5_11ea_94b3_0e20b7b750c6level0_row11\" class=\"row_heading level0 row11\" >transactionAmount</th>\n",
       "                        <td id=\"T_5a8db82e_26b5_11ea_94b3_0e20b7b750c6row11_col0\" class=\"data row11 col0\" >9.26539e-05</td>\n",
       "                        <td id=\"T_5a8db82e_26b5_11ea_94b3_0e20b7b750c6row11_col1\" class=\"data row11 col1\" >-0.0117232</td>\n",
       "                        <td id=\"T_5a8db82e_26b5_11ea_94b3_0e20b7b750c6row11_col2\" class=\"data row11 col2\" >0.00406471</td>\n",
       "                        <td id=\"T_5a8db82e_26b5_11ea_94b3_0e20b7b750c6row11_col3\" class=\"data row11 col3\" >-0.00437341</td>\n",
       "                        <td id=\"T_5a8db82e_26b5_11ea_94b3_0e20b7b750c6row11_col4\" class=\"data row11 col4\" >0.0432889</td>\n",
       "                        <td id=\"T_5a8db82e_26b5_11ea_94b3_0e20b7b750c6row11_col5\" class=\"data row11 col5\" >0.00240017</td>\n",
       "                        <td id=\"T_5a8db82e_26b5_11ea_94b3_0e20b7b750c6row11_col6\" class=\"data row11 col6\" >0.0228202</td>\n",
       "                        <td id=\"T_5a8db82e_26b5_11ea_94b3_0e20b7b750c6row11_col7\" class=\"data row11 col7\" >9.26539e-05</td>\n",
       "                        <td id=\"T_5a8db82e_26b5_11ea_94b3_0e20b7b750c6row11_col8\" class=\"data row11 col8\" >0.00433453</td>\n",
       "                        <td id=\"T_5a8db82e_26b5_11ea_94b3_0e20b7b750c6row11_col9\" class=\"data row11 col9\" >0.000347465</td>\n",
       "                        <td id=\"T_5a8db82e_26b5_11ea_94b3_0e20b7b750c6row11_col10\" class=\"data row11 col10\" >0.0887084</td>\n",
       "                        <td id=\"T_5a8db82e_26b5_11ea_94b3_0e20b7b750c6row11_col11\" class=\"data row11 col11\" >1</td>\n",
       "            </tr>\n",
       "    </tbody></table>"
      ],
      "text/plain": [
       "<pandas.io.formats.style.Styler at 0x7f1e955409e8>"
      ]
     },
     "execution_count": 31,
     "metadata": {},
     "output_type": "execute_result"
    }
   ],
   "source": [
    "corr = df.corr()\n",
    "corr.style.background_gradient(cmap='coolwarm')"
   ]
  },
  {
   "cell_type": "markdown",
   "metadata": {},
   "source": [
    "#### Feature Engineering\n",
    "\n",
    "Created New Features using below columns\n",
    "\n",
    "1) transactionDateTime:- # Calculate Total no of transaction occured on that CARD in last 1 hr and 24 hr (1 day) \n",
    "\n",
    "2) accountOpenDate:- # Calculate how old is the account (Number of days passed siince account opened)\n",
    "\n",
    "3) dateOfLastAddressChange:- # Calculate days past since adress changed (Number of days)\n",
    "\n",
    "4) merchantCountryCode and acqCountry:- # Flag column which tells for each transaction merchantCountryCode and acqCountry values were same or not \n",
    "\n",
    "5) cardCVV and enteredCVV:- # Flag column which tells for each transaction cardCVV and enteredCVV values were same or not."
   ]
  },
  {
   "cell_type": "code",
   "execution_count": 34,
   "metadata": {
    "collapsed": true
   },
   "outputs": [],
   "source": [
    "df['transaction_day'] = df.transactionDateTime.dt.date\n",
    "df['transcation_dt_hour'] = df.transactionDateTime.dt.date.astype(str) + '_' + df.transactionDateTime.dt.hour.astype(str)\n",
    "\n",
    "df['per_hour_transcation_cnt'] = df.groupby(['customerId','accountNumber','cardLast4Digits','transcation_dt_hour'])['acqCountry'].transform('count')\n",
    "df['per_day_transcation_cnt'] = df.groupby(['customerId','accountNumber','cardLast4Digits','transaction_day'])['acqCountry'].transform('count')\n",
    "\n",
    "df['account_Age_InDays']  = (datetime.datetime.today()  - df.accountOpenDate).dt.days\n",
    "df['addressUpdate_Age_InDays']  = (datetime.datetime.today()  - df.dateOfLastAddressChange).dt.days"
   ]
  },
  {
   "cell_type": "code",
   "execution_count": 35,
   "metadata": {
    "collapsed": true
   },
   "outputs": [],
   "source": [
    "df['flag_merchant_accq_Countrycode'] = (df.merchantCountryCode == df.acqCountry).astype(int)\n",
    "df['flag_cardCVV_enteredCVV'] = (df.cardCVV == df.enteredCVV).astype(int)"
   ]
  },
  {
   "cell_type": "code",
   "execution_count": null,
   "metadata": {
    "collapsed": true
   },
   "outputs": [],
   "source": []
  },
  {
   "cell_type": "code",
   "execution_count": 36,
   "metadata": {
    "collapsed": true
   },
   "outputs": [],
   "source": [
    "data = df.copy()"
   ]
  },
  {
   "cell_type": "code",
   "execution_count": 37,
   "metadata": {
    "collapsed": true
   },
   "outputs": [],
   "source": [
    "cat_cols =['cardPresent','expirationDateKeyInMatch','merchantCategoryCode','transactionType',\n",
    "          'posConditionCode','posEntryMode']\n",
    "\n",
    "drop_cols = ['customerId','transactionDateTime','accountOpenDate','dateOfLastAddressChange','acqCountry',\n",
    "             'merchantCountryCode','merchantName','transcation_dt_hour','currentExpDate','currentExpDate',\n",
    "             'transaction_day','cardCVV','enteredCVV']\n",
    "\n",
    "target_col = 'isFraud'"
   ]
  },
  {
   "cell_type": "markdown",
   "metadata": {},
   "source": [
    "#### Handling Categorical varibales:- One Hot Encoding"
   ]
  },
  {
   "cell_type": "code",
   "execution_count": 38,
   "metadata": {
    "collapsed": true
   },
   "outputs": [],
   "source": [
    "data = pd.get_dummies(data, columns=cat_cols)"
   ]
  },
  {
   "cell_type": "markdown",
   "metadata": {},
   "source": [
    "#### Drop Unwanted columns"
   ]
  },
  {
   "cell_type": "code",
   "execution_count": 39,
   "metadata": {
    "collapsed": true
   },
   "outputs": [],
   "source": [
    "data.drop(drop_cols, axis=1, inplace=True)"
   ]
  },
  {
   "cell_type": "code",
   "execution_count": 40,
   "metadata": {
    "collapsed": true
   },
   "outputs": [],
   "source": [
    "# Drop all rows with NAN (posConditionCode and posEntryMode)\n",
    "data = data[data.notnull().all(axis=1)]"
   ]
  },
  {
   "cell_type": "code",
   "execution_count": 41,
   "metadata": {
    "collapsed": true
   },
   "outputs": [],
   "source": [
    "Y = data[target_col].astype('int')\n",
    "del data[target_col]\n",
    "X = data"
   ]
  },
  {
   "cell_type": "markdown",
   "metadata": {},
   "source": [
    "#### Split Data into Train and Test"
   ]
  },
  {
   "cell_type": "code",
   "execution_count": 86,
   "metadata": {},
   "outputs": [
    {
     "name": "stdout",
     "output_type": "stream",
     "text": [
      "\n",
      "TRAINING DATA SHAPE(449339, 46) (449339,) \n",
      "\n",
      "TEST DATA SHAPE(192575, 46) (192575,)\n"
     ]
    }
   ],
   "source": [
    "from sklearn.model_selection import train_test_split\n",
    "\n",
    "X_train , X_test , Y_train, Y_test = train_test_split(X, Y, test_size = 0.3, random_state = 42)\n",
    "\n",
    "print(F\"\\nTRAINING DATA SHAPE{X_train.shape} {Y_train.shape} \\n\\nTEST DATA SHAPE{X_test.shape} {Y_test.shape}\")"
   ]
  },
  {
   "cell_type": "markdown",
   "metadata": {},
   "source": [
    "### Over Sample the Training Data to handle IMBALANCE"
   ]
  },
  {
   "cell_type": "code",
   "execution_count": 60,
   "metadata": {},
   "outputs": [
    {
     "name": "stdout",
     "output_type": "stream",
     "text": [
      "[(0, 441450), (1, 441450)]\n"
     ]
    }
   ],
   "source": [
    "from imblearn.over_sampling import SMOTE\n",
    "from collections import Counter\n",
    "\n",
    "# SMOTE oversampling\n",
    "sm = SMOTE(random_state=42)\n",
    "X_resampled, y_resampled = sm.fit_sample(X_train, Y_train)\n",
    "\n",
    "# using Counter to display results of  oversampling\n",
    "print(sorted(Counter(y_resampled).items()))"
   ]
  },
  {
   "cell_type": "code",
   "execution_count": 95,
   "metadata": {},
   "outputs": [
    {
     "name": "stdout",
     "output_type": "stream",
     "text": [
      "\n",
      "AFTER RESAMPLING THE DATA:-\n",
      "\n",
      "TRAINING DATA SHAPE(882900, 46) (882900,) \n",
      "\n",
      "TEST DATA SHAPE(192575, 46) (192575,)\n"
     ]
    }
   ],
   "source": [
    "print(F\"\\nAFTER RESAMPLING THE DATA:-\\n\\nTRAINING DATA SHAPE{X_resampled.shape} {y_resampled.shape} \\n\\nTEST DATA SHAPE{X_test.shape} {Y_test.shape}\")"
   ]
  },
  {
   "cell_type": "markdown",
   "metadata": {},
   "source": [
    "### Feature Selection - Top 15"
   ]
  },
  {
   "cell_type": "code",
   "execution_count": 93,
   "metadata": {
    "collapsed": true
   },
   "outputs": [],
   "source": [
    "from sklearn.feature_selection import SelectKBest\n",
    "from sklearn.feature_selection import mutual_info_classif\n",
    "\n",
    "def select_features(X_train, y_train, X_test):\n",
    "    fs = SelectKBest(score_func=mutual_info_classif, k=15)\n",
    "    fs.fit(X_train, y_train)\n",
    "    X_train_fs = fs.transform(X_train)\n",
    "    X_test_fs = fs.transform(X_test)\n",
    "    return X_train_fs, X_test_fs\n",
    "\n",
    "X_train_fs, X_test_fs = select_features(X_resampled, y_resampled, X_test)"
   ]
  },
  {
   "cell_type": "code",
   "execution_count": 96,
   "metadata": {},
   "outputs": [
    {
     "data": {
      "text/plain": [
       "RandomForestClassifier(bootstrap=True, ccp_alpha=0.0,\n",
       "                       class_weight={0: 0.002271, 1: 0.997729},\n",
       "                       criterion='gini', max_depth=None, max_features='auto',\n",
       "                       max_leaf_nodes=None, max_samples=None,\n",
       "                       min_impurity_decrease=0.0, min_impurity_split=None,\n",
       "                       min_samples_leaf=1, min_samples_split=2,\n",
       "                       min_weight_fraction_leaf=0.0, n_estimators=10, n_jobs=-1,\n",
       "                       oob_score=False, random_state=None, verbose=0,\n",
       "                       warm_start=False)"
      ]
     },
     "execution_count": 96,
     "metadata": {},
     "output_type": "execute_result"
    }
   ],
   "source": [
    "from sklearn.ensemble import RandomForestClassifier\n",
    "\n",
    "rfc = RandomForestClassifier(n_jobs=-1,max_features= 'auto',\n",
    "                             n_estimators=10, \n",
    "                             oob_score = False, \n",
    "                             class_weight = {0: 0.002271, 1:0.997729}) \n",
    "\n",
    "rfc.fit(X_train_fs,y_resampled)"
   ]
  },
  {
   "cell_type": "code",
   "execution_count": 99,
   "metadata": {},
   "outputs": [
    {
     "data": {
      "image/png": "[encoded data removed]",
      "text/plain": [
       "<matplotlib.figure.Figure at 0x7f1e7e67a588>"
      ]
     },
     "metadata": {},
     "output_type": "display_data"
    }
   ],
   "source": [
    "#  Plot Feature Importance  \n",
    "ranking = np.argsort(rfc.feature_importances_)\n",
    "f, ax = plt.subplots(figsize=(14, 10))\n",
    "sns.barplot(x=rfc.feature_importances_[ranking], y=X_train.columns.values[ranking], orient='h')\n",
    "ax.set_xlabel(\"feature importance\")\n",
    "plt.tight_layout()\n",
    "plt.show()"
   ]
  },
  {
   "cell_type": "markdown",
   "metadata": {},
   "source": [
    "#### Model Score"
   ]
  },
  {
   "cell_type": "code",
   "execution_count": 102,
   "metadata": {},
   "outputs": [
    {
     "name": "stdout",
     "output_type": "stream",
     "text": [
      "Score on Training Data:- 0.9953063767131045\n",
      "Score on Test Data:- 0.9347994287939764\n"
     ]
    }
   ],
   "source": [
    "print(f\"Score on Training Data:- {rfc.score(X_train_fs, y_resampled)}\")\n",
    "\n",
    "print(f\"Score on Test Data:- {rfc.score(X_test_fs, Y_test)}\")"
   ]
  },
  {
   "cell_type": "markdown",
   "metadata": {},
   "source": [
    "#### Model Evaluation Matrics\n",
    "\n",
    "1. Classification Report\n",
    "2. Confusion Matrix"
   ]
  },
  {
   "cell_type": "code",
   "execution_count": 103,
   "metadata": {
    "collapsed": true
   },
   "outputs": [],
   "source": [
    "Y_pred = rfc.predict(X_test_fs)"
   ]
  },
  {
   "cell_type": "code",
   "execution_count": 104,
   "metadata": {},
   "outputs": [
    {
     "name": "stdout",
     "output_type": "stream",
     "text": [
      "Classification Report:- \n",
      "\n",
      "              precision    recall  f1-score   support\n",
      "\n",
      "           0       0.99      0.95      0.97    189162\n",
      "           1       0.07      0.21      0.10      3413\n",
      "\n",
      "    accuracy                           0.93    192575\n",
      "   macro avg       0.53      0.58      0.53    192575\n",
      "weighted avg       0.97      0.93      0.95    192575\n",
      "\n"
     ]
    }
   ],
   "source": [
    "print(f\"Classification Report:- \\n\\n{classification_report(Y_test, Y_pred, digits=2)}\")"
   ]
  },
  {
   "cell_type": "code",
   "execution_count": 105,
   "metadata": {},
   "outputs": [
    {
     "name": "stdout",
     "output_type": "stream",
     "text": [
      "Confusion Matrix :- \n",
      "\n",
      " [[179319   9843]\n",
      " [  2713    700]]\n"
     ]
    }
   ],
   "source": [
    "print(f\"Confusion Matrix :- \\n\\n {confusion_matrix(Y_test, Y_pred)}\")"
   ]
  },
  {
   "cell_type": "markdown",
   "metadata": {},
   "source": [
    "#### Hyper Parameter Tuning"
   ]
  },
  {
   "cell_type": "code",
   "execution_count": 107,
   "metadata": {},
   "outputs": [
    {
     "name": "stdout",
     "output_type": "stream",
     "text": [
      "{'max_features': 'log2', 'n_estimators': 100}\n"
     ]
    }
   ],
   "source": [
    "from sklearn.model_selection import learning_curve,GridSearchCV\n",
    "\n",
    "rfc = RandomForestClassifier(n_jobs=-1,max_features= 'auto',\n",
    "                             n_estimators=10, \n",
    "                             oob_score = False, \n",
    "                             class_weight = {0: 0.002271, 1:0.997729}) \n",
    "\n",
    "param_grid = { \n",
    "    'n_estimators': [20, 50,100],\n",
    "    'max_features': ['auto', 'sqrt', 'log2']\n",
    "}\n",
    "\n",
    "CV_rfc = GridSearchCV(estimator=rfc, param_grid=param_grid, cv= 5)\n",
    "\n",
    "CV_rfc.fit(X_train_fs,y_resampled)\n",
    "\n",
    "print(CV_rfc.best_params_)"
   ]
  },
  {
   "cell_type": "code",
   "execution_count": 108,
   "metadata": {},
   "outputs": [
    {
     "name": "stdout",
     "output_type": "stream",
     "text": [
      "Score on Training Data:- 0.9998584211122438\n",
      "Score on Test Data:- 0.9334960405036998\n"
     ]
    }
   ],
   "source": [
    "print(f\"Score on Training Data:- {CV_rfc.score(X_train_fs, y_resampled)}\")\n",
    "print(f\"Score on Test Data:- {CV_rfc.score(X_test_fs, Y_test)}\")"
   ]
  },
  {
   "cell_type": "code",
   "execution_count": 109,
   "metadata": {},
   "outputs": [
    {
     "name": "stdout",
     "output_type": "stream",
     "text": [
      "Accuracy: 93.35\n"
     ]
    }
   ],
   "source": [
    "# evaluate the model\n",
    "Y_pred = CV_rfc.predict(X_test_fs)\n",
    "\n",
    "# evaluate predictions\n",
    "accuracy = accuracy_score(Y_test, Y_pred)\n",
    "print('Accuracy: %.2f' % (accuracy*100))"
   ]
  },
  {
   "cell_type": "code",
   "execution_count": 110,
   "metadata": {},
   "outputs": [
    {
     "name": "stdout",
     "output_type": "stream",
     "text": [
      "Classification Report:- \n",
      "\n",
      "              precision    recall  f1-score   support\n",
      "\n",
      "           0       0.99      0.95      0.97    189162\n",
      "           1       0.07      0.21      0.10      3413\n",
      "\n",
      "    accuracy                           0.93    192575\n",
      "   macro avg       0.53      0.58      0.53    192575\n",
      "weighted avg       0.97      0.93      0.95    192575\n",
      "\n"
     ]
    }
   ],
   "source": [
    "print(f\"Classification Report:- \\n\\n{classification_report(Y_test, Y_pred, digits=2)}\")"
   ]
  },
  {
   "cell_type": "code",
   "execution_count": 111,
   "metadata": {},
   "outputs": [
    {
     "name": "stdout",
     "output_type": "stream",
     "text": [
      "Confusion Matrix :- \n",
      "\n",
      " [[179046  10116]\n",
      " [  2691    722]]\n"
     ]
    }
   ],
   "source": [
    "print(f\"Confusion Matrix :- \\n\\n {confusion_matrix(Y_test, Y_pred)}\")"
   ]
  },
  {
   "cell_type": "markdown",
   "metadata": {},
   "source": [
    "### Model 2:- XgboostClassiifier"
   ]
  },
  {
   "cell_type": "code",
   "execution_count": 121,
   "metadata": {},
   "outputs": [
    {
     "name": "stdout",
     "output_type": "stream",
     "text": [
      "Accuracy: 79.47%\n"
     ]
    }
   ],
   "source": [
    "from xgboost import XGBClassifier\n",
    "from sklearn.metrics import accuracy_score\n",
    "\n",
    "# fit model no training data\n",
    "model_xgb = XGBClassifier()\n",
    "\n",
    "model_xgb.fit(X_train_fs, y_resampled)\n",
    "\n",
    "# make predictions for test data\n",
    "y_pred = model_xgb.predict(X_test_fs)\n",
    "predictions = [round(value) for value in y_pred]\n",
    "\n",
    "# evaluate predictions\n",
    "accuracy = accuracy_score(Y_test, predictions)\n",
    "print(\"Accuracy: %.2f%%\" % (accuracy * 100.0))"
   ]
  },
  {
   "cell_type": "code",
   "execution_count": 122,
   "metadata": {},
   "outputs": [
    {
     "data": {
      "image/png": "[encoded data removed]",
      "text/plain": [
       "<matplotlib.figure.Figure at 0x7f1e7e070780>"
      ]
     },
     "metadata": {},
     "output_type": "display_data"
    }
   ],
   "source": [
    "from xgboost import plot_importance\n",
    "\n",
    "ax = plot_importance(model_xgb)\n",
    "fig = ax.figure\n",
    "fig.set_size_inches(15, 10)"
   ]
  },
  {
   "cell_type": "code",
   "execution_count": 123,
   "metadata": {},
   "outputs": [
    {
     "name": "stdout",
     "output_type": "stream",
     "text": [
      "            Predicted No  Predicted Yes   Total\n",
      "Actual No         151315          37847  189162\n",
      "Actual Yes          1695           1718    3413\n",
      "Total             153010          39565  192575\n"
     ]
    }
   ],
   "source": [
    "cm = pd.DataFrame(confusion_matrix(Y_test, predictions))\n",
    "cm['Total'] = np.sum(cm, axis=1)\n",
    "cm = cm.append(np.sum(cm, axis=0), ignore_index=True)\n",
    "cm.columns = ['Predicted No', 'Predicted Yes', 'Total']\n",
    "cm = cm.set_index([['Actual No', 'Actual Yes', 'Total']])\n",
    "print(cm)"
   ]
  },
  {
   "cell_type": "code",
   "execution_count": 124,
   "metadata": {},
   "outputs": [
    {
     "name": "stdout",
     "output_type": "stream",
     "text": [
      "              precision    recall  f1-score   support\n",
      "\n",
      "           0       0.99      0.80      0.88    189162\n",
      "           1       0.04      0.50      0.08      3413\n",
      "\n",
      "    accuracy                           0.79    192575\n",
      "   macro avg       0.52      0.65      0.48    192575\n",
      "weighted avg       0.97      0.79      0.87    192575\n",
      "\n"
     ]
    }
   ],
   "source": [
    "print(classification_report(Y_test, predictions))"
   ]
  },
  {
   "cell_type": "markdown",
   "metadata": {
    "collapsed": true
   },
   "source": [
    "#### Feature Selection with XGBoost Feature Importance Scores"
   ]
  },
  {
   "cell_type": "code",
   "execution_count": 115,
   "metadata": {},
   "outputs": [
    {
     "name": "stdout",
     "output_type": "stream",
     "text": [
      "Accuracy: 93.61%\n",
      "Thresh=0.000, n=35, Accuracy: 93.61%\n",
      "Thresh=0.000, n=34, Accuracy: 93.61%\n",
      "Thresh=0.001, n=33, Accuracy: 93.61%\n",
      "Thresh=0.001, n=32, Accuracy: 93.60%\n",
      "Thresh=0.002, n=31, Accuracy: 93.56%\n",
      "Thresh=0.002, n=30, Accuracy: 93.46%\n",
      "Thresh=0.002, n=29, Accuracy: 93.37%\n",
      "Thresh=0.002, n=28, Accuracy: 93.23%\n",
      "Thresh=0.003, n=27, Accuracy: 93.52%\n",
      "Thresh=0.004, n=26, Accuracy: 93.77%\n",
      "Thresh=0.007, n=25, Accuracy: 93.77%\n",
      "Thresh=0.007, n=24, Accuracy: 93.75%\n",
      "Thresh=0.008, n=23, Accuracy: 94.10%\n",
      "Thresh=0.008, n=22, Accuracy: 94.10%\n",
      "Thresh=0.009, n=21, Accuracy: 93.94%\n",
      "Thresh=0.010, n=20, Accuracy: 93.75%\n",
      "Thresh=0.012, n=19, Accuracy: 94.03%\n",
      "Thresh=0.012, n=18, Accuracy: 93.77%\n",
      "Thresh=0.012, n=17, Accuracy: 93.85%\n",
      "Thresh=0.015, n=16, Accuracy: 93.84%\n",
      "Thresh=0.015, n=15, Accuracy: 93.91%\n",
      "Thresh=0.015, n=14, Accuracy: 93.90%\n",
      "Thresh=0.018, n=13, Accuracy: 93.67%\n",
      "Thresh=0.018, n=12, Accuracy: 93.63%\n",
      "Thresh=0.030, n=11, Accuracy: 93.50%\n",
      "Thresh=0.034, n=10, Accuracy: 92.83%\n",
      "Thresh=0.038, n=9, Accuracy: 91.59%\n",
      "Thresh=0.045, n=8, Accuracy: 90.21%\n",
      "Thresh=0.052, n=7, Accuracy: 88.14%\n",
      "Thresh=0.053, n=6, Accuracy: 86.40%\n",
      "Thresh=0.057, n=5, Accuracy: 92.57%\n",
      "Thresh=0.059, n=4, Accuracy: 93.42%\n",
      "Thresh=0.126, n=3, Accuracy: 93.42%\n",
      "Thresh=0.127, n=2, Accuracy: 69.49%\n",
      "Thresh=0.197, n=1, Accuracy: 41.08%\n"
     ]
    }
   ],
   "source": [
    "from numpy import sort\n",
    "from xgboost import XGBClassifier\n",
    "from sklearn.model_selection import train_test_split\n",
    "from sklearn.metrics import accuracy_score\n",
    "from sklearn.feature_selection import SelectFromModel\n",
    "\n",
    "# fit model on all Over SAMPLED training data\n",
    "model = XGBClassifier()\n",
    "model.fit(X_resampled, y_resampled)\n",
    "\n",
    "# make predictions for test data and evaluate\n",
    "y_pred = model.predict(X_test)\n",
    "predictions = [round(value) for value in y_pred]\n",
    "accuracy = accuracy_score(Y_test, predictions)\n",
    "print(\"Accuracy: %.2f%%\" % (accuracy * 100.0))\n",
    "\n",
    "# Fit model using each importance as a threshold\n",
    "thresholds = sort(model.feature_importances_)\n",
    "\n",
    "for thresh in thresholds:\n",
    "    if thresh==0:\n",
    "        pass\n",
    "    else:\n",
    "        # select features using threshold\n",
    "        selection = SelectFromModel(model, threshold=thresh, prefit=True)\n",
    "        select_X_train = selection.transform(X_resampled)\n",
    "        # train model\n",
    "        selection_model = XGBClassifier()\n",
    "        selection_model.fit(select_X_train, y_resampled)\n",
    "        # eval model\n",
    "        select_X_test = selection.transform(X_test)\n",
    "        y_pred = selection_model.predict(select_X_test)\n",
    "        predictions = [round(value) for value in y_pred]\n",
    "        accuracy = accuracy_score(Y_test, predictions)\n",
    "        print(\"Thresh=%.3f, n=%d, Accuracy: %.2f%%\" % (thresh, select_X_train.shape[1], accuracy*100.0))"
   ]
  },
  {
   "cell_type": "markdown",
   "metadata": {
    "collapsed": true
   },
   "source": [
    "##### We can see that the performance of the model generally decreases with the number of selected features. On this problem there is a trade-off of features to test set accuracy and we could decide to take a less complex model (fewer attributes such as n=8) and accept a modest decrease in estimated accuracy from 93.61% down to 90.21%."
   ]
  },
  {
   "cell_type": "code",
   "execution_count": null,
   "metadata": {
    "collapsed": true
   },
   "outputs": [],
   "source": []
  }
 ],
 "metadata": {
  "kernelspec": {
   "display_name": "Python 3 (ipykernel)",
   "language": "python",
   "name": "python3"
  },
  "language_info": {
   "codemirror_mode": {
    "name": "ipython",
    "version": 3
   },
   "file_extension": ".py",
   "mimetype": "text/x-python",
   "name": "python",
   "nbconvert_exporter": "python",
   "pygments_lexer": "ipython3",
   "version": "3.9.7"
  },
  "widgets": {
   "application/vnd.jupyter.widget-state+json": {
    "state": {},
    "version_major": 2,
    "version_minor": 0
   }
  }
 },
 "nbformat": 4,
 "nbformat_minor": 2
}
